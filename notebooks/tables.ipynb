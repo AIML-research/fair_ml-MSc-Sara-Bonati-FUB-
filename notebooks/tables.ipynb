{
 "cells": [
  {
   "cell_type": "markdown",
   "source": [
    "# Tables for thesis"
   ],
   "metadata": {
    "collapsed": false
   }
  },
  {
   "cell_type": "code",
   "execution_count": 2,
   "outputs": [],
   "source": [
    "import pandas as pd\n",
    "import numpy as np\n",
    "import glob\n",
    "import os\n",
    "import json\n",
    "import re\n",
    "from pathlib import Path\n",
    "from sklearn.preprocessing import StandardScaler"
   ],
   "metadata": {
    "collapsed": false
   }
  },
  {
   "cell_type": "code",
   "execution_count": 3,
   "outputs": [],
   "source": [
    "# directory management\n",
    "wdir = os.getcwd()\n",
    "udir = os.path.join(os.path.split(wdir)[0], \"utils\")\n",
    "ddir = os.path.join(os.path.split(os.path.split(wdir)[0])[0], \"fair_ml_thesis_data\", \"rawdata\")\n",
    "cdir = os.path.join(os.path.split(os.path.split(wdir)[0])[0], \"fair_ml_thesis_data\", \"clustering\")\n",
    "adir = os.path.join(os.path.split(os.path.split(wdir)[0])[0], \"fair_ml_thesis_data\", \"aggregated\")\n",
    "\n",
    "json_file_path = os.path.join(udir,'tasks_metadata.json')\n",
    "with open(json_file_path, 'r') as j:\n",
    "    task_infos = json.loads(j.read())"
   ],
   "metadata": {
    "collapsed": false
   }
  },
  {
   "cell_type": "markdown",
   "source": [
    "## Create year table with this info for each state:\n",
    "- sample size\n",
    "- share of positive class\n",
    "- share of male vs female\n",
    "- share of white/black/other\n",
    "- share of privileged group in positive class (sex)\n",
    "- share of privileged group in positive class (race)"
   ],
   "metadata": {
    "collapsed": false
   }
  },
  {
   "cell_type": "code",
   "execution_count": 4,
   "outputs": [
    {
     "data": {
      "text/plain": "['C:\\\\Users\\\\sarab\\\\Desktop\\\\Data_Science_MSc\\\\master_thesis\\\\fair_ml_thesis_data\\\\rawdata\\\\2014\\\\1-Year\\\\2014_AK_ACSEmployment.csv',\n 'C:\\\\Users\\\\sarab\\\\Desktop\\\\Data_Science_MSc\\\\master_thesis\\\\fair_ml_thesis_data\\\\rawdata\\\\2014\\\\1-Year\\\\2014_AL_ACSEmployment.csv',\n 'C:\\\\Users\\\\sarab\\\\Desktop\\\\Data_Science_MSc\\\\master_thesis\\\\fair_ml_thesis_data\\\\rawdata\\\\2014\\\\1-Year\\\\2014_AR_ACSEmployment.csv',\n 'C:\\\\Users\\\\sarab\\\\Desktop\\\\Data_Science_MSc\\\\master_thesis\\\\fair_ml_thesis_data\\\\rawdata\\\\2014\\\\1-Year\\\\2014_AZ_ACSEmployment.csv',\n 'C:\\\\Users\\\\sarab\\\\Desktop\\\\Data_Science_MSc\\\\master_thesis\\\\fair_ml_thesis_data\\\\rawdata\\\\2014\\\\1-Year\\\\2014_CA_ACSEmployment.csv',\n 'C:\\\\Users\\\\sarab\\\\Desktop\\\\Data_Science_MSc\\\\master_thesis\\\\fair_ml_thesis_data\\\\rawdata\\\\2014\\\\1-Year\\\\2014_CO_ACSEmployment.csv',\n 'C:\\\\Users\\\\sarab\\\\Desktop\\\\Data_Science_MSc\\\\master_thesis\\\\fair_ml_thesis_data\\\\rawdata\\\\2014\\\\1-Year\\\\2014_CT_ACSEmployment.csv',\n 'C:\\\\Users\\\\sarab\\\\Desktop\\\\Data_Science_MSc\\\\master_thesis\\\\fair_ml_thesis_data\\\\rawdata\\\\2014\\\\1-Year\\\\2014_DE_ACSEmployment.csv',\n 'C:\\\\Users\\\\sarab\\\\Desktop\\\\Data_Science_MSc\\\\master_thesis\\\\fair_ml_thesis_data\\\\rawdata\\\\2014\\\\1-Year\\\\2014_FL_ACSEmployment.csv',\n 'C:\\\\Users\\\\sarab\\\\Desktop\\\\Data_Science_MSc\\\\master_thesis\\\\fair_ml_thesis_data\\\\rawdata\\\\2014\\\\1-Year\\\\2014_GA_ACSEmployment.csv',\n 'C:\\\\Users\\\\sarab\\\\Desktop\\\\Data_Science_MSc\\\\master_thesis\\\\fair_ml_thesis_data\\\\rawdata\\\\2014\\\\1-Year\\\\2014_HI_ACSEmployment.csv',\n 'C:\\\\Users\\\\sarab\\\\Desktop\\\\Data_Science_MSc\\\\master_thesis\\\\fair_ml_thesis_data\\\\rawdata\\\\2014\\\\1-Year\\\\2014_IA_ACSEmployment.csv',\n 'C:\\\\Users\\\\sarab\\\\Desktop\\\\Data_Science_MSc\\\\master_thesis\\\\fair_ml_thesis_data\\\\rawdata\\\\2014\\\\1-Year\\\\2014_ID_ACSEmployment.csv',\n 'C:\\\\Users\\\\sarab\\\\Desktop\\\\Data_Science_MSc\\\\master_thesis\\\\fair_ml_thesis_data\\\\rawdata\\\\2014\\\\1-Year\\\\2014_IL_ACSEmployment.csv',\n 'C:\\\\Users\\\\sarab\\\\Desktop\\\\Data_Science_MSc\\\\master_thesis\\\\fair_ml_thesis_data\\\\rawdata\\\\2014\\\\1-Year\\\\2014_IN_ACSEmployment.csv',\n 'C:\\\\Users\\\\sarab\\\\Desktop\\\\Data_Science_MSc\\\\master_thesis\\\\fair_ml_thesis_data\\\\rawdata\\\\2014\\\\1-Year\\\\2014_KS_ACSEmployment.csv',\n 'C:\\\\Users\\\\sarab\\\\Desktop\\\\Data_Science_MSc\\\\master_thesis\\\\fair_ml_thesis_data\\\\rawdata\\\\2014\\\\1-Year\\\\2014_KY_ACSEmployment.csv',\n 'C:\\\\Users\\\\sarab\\\\Desktop\\\\Data_Science_MSc\\\\master_thesis\\\\fair_ml_thesis_data\\\\rawdata\\\\2014\\\\1-Year\\\\2014_LA_ACSEmployment.csv',\n 'C:\\\\Users\\\\sarab\\\\Desktop\\\\Data_Science_MSc\\\\master_thesis\\\\fair_ml_thesis_data\\\\rawdata\\\\2014\\\\1-Year\\\\2014_MA_ACSEmployment.csv',\n 'C:\\\\Users\\\\sarab\\\\Desktop\\\\Data_Science_MSc\\\\master_thesis\\\\fair_ml_thesis_data\\\\rawdata\\\\2014\\\\1-Year\\\\2014_MD_ACSEmployment.csv',\n 'C:\\\\Users\\\\sarab\\\\Desktop\\\\Data_Science_MSc\\\\master_thesis\\\\fair_ml_thesis_data\\\\rawdata\\\\2014\\\\1-Year\\\\2014_ME_ACSEmployment.csv',\n 'C:\\\\Users\\\\sarab\\\\Desktop\\\\Data_Science_MSc\\\\master_thesis\\\\fair_ml_thesis_data\\\\rawdata\\\\2014\\\\1-Year\\\\2014_MI_ACSEmployment.csv',\n 'C:\\\\Users\\\\sarab\\\\Desktop\\\\Data_Science_MSc\\\\master_thesis\\\\fair_ml_thesis_data\\\\rawdata\\\\2014\\\\1-Year\\\\2014_MN_ACSEmployment.csv',\n 'C:\\\\Users\\\\sarab\\\\Desktop\\\\Data_Science_MSc\\\\master_thesis\\\\fair_ml_thesis_data\\\\rawdata\\\\2014\\\\1-Year\\\\2014_MO_ACSEmployment.csv',\n 'C:\\\\Users\\\\sarab\\\\Desktop\\\\Data_Science_MSc\\\\master_thesis\\\\fair_ml_thesis_data\\\\rawdata\\\\2014\\\\1-Year\\\\2014_MS_ACSEmployment.csv',\n 'C:\\\\Users\\\\sarab\\\\Desktop\\\\Data_Science_MSc\\\\master_thesis\\\\fair_ml_thesis_data\\\\rawdata\\\\2014\\\\1-Year\\\\2014_MT_ACSEmployment.csv',\n 'C:\\\\Users\\\\sarab\\\\Desktop\\\\Data_Science_MSc\\\\master_thesis\\\\fair_ml_thesis_data\\\\rawdata\\\\2014\\\\1-Year\\\\2014_NC_ACSEmployment.csv',\n 'C:\\\\Users\\\\sarab\\\\Desktop\\\\Data_Science_MSc\\\\master_thesis\\\\fair_ml_thesis_data\\\\rawdata\\\\2014\\\\1-Year\\\\2014_ND_ACSEmployment.csv',\n 'C:\\\\Users\\\\sarab\\\\Desktop\\\\Data_Science_MSc\\\\master_thesis\\\\fair_ml_thesis_data\\\\rawdata\\\\2014\\\\1-Year\\\\2014_NE_ACSEmployment.csv',\n 'C:\\\\Users\\\\sarab\\\\Desktop\\\\Data_Science_MSc\\\\master_thesis\\\\fair_ml_thesis_data\\\\rawdata\\\\2014\\\\1-Year\\\\2014_NH_ACSEmployment.csv',\n 'C:\\\\Users\\\\sarab\\\\Desktop\\\\Data_Science_MSc\\\\master_thesis\\\\fair_ml_thesis_data\\\\rawdata\\\\2014\\\\1-Year\\\\2014_NJ_ACSEmployment.csv',\n 'C:\\\\Users\\\\sarab\\\\Desktop\\\\Data_Science_MSc\\\\master_thesis\\\\fair_ml_thesis_data\\\\rawdata\\\\2014\\\\1-Year\\\\2014_NM_ACSEmployment.csv',\n 'C:\\\\Users\\\\sarab\\\\Desktop\\\\Data_Science_MSc\\\\master_thesis\\\\fair_ml_thesis_data\\\\rawdata\\\\2014\\\\1-Year\\\\2014_NV_ACSEmployment.csv',\n 'C:\\\\Users\\\\sarab\\\\Desktop\\\\Data_Science_MSc\\\\master_thesis\\\\fair_ml_thesis_data\\\\rawdata\\\\2014\\\\1-Year\\\\2014_NY_ACSEmployment.csv',\n 'C:\\\\Users\\\\sarab\\\\Desktop\\\\Data_Science_MSc\\\\master_thesis\\\\fair_ml_thesis_data\\\\rawdata\\\\2014\\\\1-Year\\\\2014_OH_ACSEmployment.csv',\n 'C:\\\\Users\\\\sarab\\\\Desktop\\\\Data_Science_MSc\\\\master_thesis\\\\fair_ml_thesis_data\\\\rawdata\\\\2014\\\\1-Year\\\\2014_OK_ACSEmployment.csv',\n 'C:\\\\Users\\\\sarab\\\\Desktop\\\\Data_Science_MSc\\\\master_thesis\\\\fair_ml_thesis_data\\\\rawdata\\\\2014\\\\1-Year\\\\2014_OR_ACSEmployment.csv',\n 'C:\\\\Users\\\\sarab\\\\Desktop\\\\Data_Science_MSc\\\\master_thesis\\\\fair_ml_thesis_data\\\\rawdata\\\\2014\\\\1-Year\\\\2014_PA_ACSEmployment.csv',\n 'C:\\\\Users\\\\sarab\\\\Desktop\\\\Data_Science_MSc\\\\master_thesis\\\\fair_ml_thesis_data\\\\rawdata\\\\2014\\\\1-Year\\\\2014_RI_ACSEmployment.csv',\n 'C:\\\\Users\\\\sarab\\\\Desktop\\\\Data_Science_MSc\\\\master_thesis\\\\fair_ml_thesis_data\\\\rawdata\\\\2014\\\\1-Year\\\\2014_SC_ACSEmployment.csv',\n 'C:\\\\Users\\\\sarab\\\\Desktop\\\\Data_Science_MSc\\\\master_thesis\\\\fair_ml_thesis_data\\\\rawdata\\\\2014\\\\1-Year\\\\2014_SD_ACSEmployment.csv',\n 'C:\\\\Users\\\\sarab\\\\Desktop\\\\Data_Science_MSc\\\\master_thesis\\\\fair_ml_thesis_data\\\\rawdata\\\\2014\\\\1-Year\\\\2014_TN_ACSEmployment.csv',\n 'C:\\\\Users\\\\sarab\\\\Desktop\\\\Data_Science_MSc\\\\master_thesis\\\\fair_ml_thesis_data\\\\rawdata\\\\2014\\\\1-Year\\\\2014_TX_ACSEmployment.csv',\n 'C:\\\\Users\\\\sarab\\\\Desktop\\\\Data_Science_MSc\\\\master_thesis\\\\fair_ml_thesis_data\\\\rawdata\\\\2014\\\\1-Year\\\\2014_UT_ACSEmployment.csv',\n 'C:\\\\Users\\\\sarab\\\\Desktop\\\\Data_Science_MSc\\\\master_thesis\\\\fair_ml_thesis_data\\\\rawdata\\\\2014\\\\1-Year\\\\2014_VA_ACSEmployment.csv',\n 'C:\\\\Users\\\\sarab\\\\Desktop\\\\Data_Science_MSc\\\\master_thesis\\\\fair_ml_thesis_data\\\\rawdata\\\\2014\\\\1-Year\\\\2014_VT_ACSEmployment.csv',\n 'C:\\\\Users\\\\sarab\\\\Desktop\\\\Data_Science_MSc\\\\master_thesis\\\\fair_ml_thesis_data\\\\rawdata\\\\2014\\\\1-Year\\\\2014_WA_ACSEmployment.csv',\n 'C:\\\\Users\\\\sarab\\\\Desktop\\\\Data_Science_MSc\\\\master_thesis\\\\fair_ml_thesis_data\\\\rawdata\\\\2014\\\\1-Year\\\\2014_WI_ACSEmployment.csv',\n 'C:\\\\Users\\\\sarab\\\\Desktop\\\\Data_Science_MSc\\\\master_thesis\\\\fair_ml_thesis_data\\\\rawdata\\\\2014\\\\1-Year\\\\2014_WV_ACSEmployment.csv',\n 'C:\\\\Users\\\\sarab\\\\Desktop\\\\Data_Science_MSc\\\\master_thesis\\\\fair_ml_thesis_data\\\\rawdata\\\\2014\\\\1-Year\\\\2014_WY_ACSEmployment.csv']"
     },
     "execution_count": 4,
     "metadata": {},
     "output_type": "execute_result"
    }
   ],
   "source": [
    "# get all files for year y\n",
    "year=2014\n",
    "task='ACSEmployment'\n",
    "data_file_paths = glob.glob(os.path.join(ddir, str(year), '1-Year') + f'/{str(year)}*_{task}.csv')\n",
    "data_file_paths"
   ],
   "metadata": {
    "collapsed": false
   }
  },
  {
   "cell_type": "code",
   "execution_count": 5,
   "outputs": [
    {
     "name": "stdout",
     "output_type": "stream",
     "text": [
      "AK\n"
     ]
    }
   ],
   "source": [
    "state_pattern = re.compile(r\"_([^_]+)_\")\n",
    "test_path = Path(data_file_paths[0])\n",
    "print(state_pattern.findall(test_path.name)[-1])"
   ],
   "metadata": {
    "collapsed": false
   }
  },
  {
   "cell_type": "code",
   "execution_count": 10,
   "outputs": [
    {
     "name": "stderr",
     "output_type": "stream",
     "text": [
      "C:\\Users\\sarab\\AppData\\Local\\Temp\\ipykernel_1688\\1843594873.py:10: FutureWarning: In a future version, `df.iloc[:, i] = newvals` will attempt to set the values inplace instead of always setting a new array. To retain the old behavior, use either `df[df.columns[i]] = newvals` or, if columns are non-unique, `df.isetitem(i, newvals)`\n",
      "  df.loc[:,c] = df.loc[:,c].astype(int)\n",
      "C:\\Users\\sarab\\AppData\\Local\\Temp\\ipykernel_1688\\1843594873.py:10: FutureWarning: In a future version, `df.iloc[:, i] = newvals` will attempt to set the values inplace instead of always setting a new array. To retain the old behavior, use either `df[df.columns[i]] = newvals` or, if columns are non-unique, `df.isetitem(i, newvals)`\n",
      "  df.loc[:,c] = df.loc[:,c].astype(int)\n",
      "C:\\Users\\sarab\\AppData\\Local\\Temp\\ipykernel_1688\\1843594873.py:10: FutureWarning: In a future version, `df.iloc[:, i] = newvals` will attempt to set the values inplace instead of always setting a new array. To retain the old behavior, use either `df[df.columns[i]] = newvals` or, if columns are non-unique, `df.isetitem(i, newvals)`\n",
      "  df.loc[:,c] = df.loc[:,c].astype(int)\n"
     ]
    },
    {
     "name": "stdout",
     "output_type": "stream",
     "text": [
      "5074\n",
      "{1: 0.550453291288924, 0: 0.44954670871107605}\n",
      "AK -> 53.41926244181884\n",
      "39150\n",
      "{0: 0.5155300127713921, 1: 0.4844699872286079}\n",
      "AL -> 51.94284810460273\n",
      "23861\n",
      "{0: 0.5115460374669963, 1: 0.48845396253300366}\n",
      "AR -> 52.62977262977263\n"
     ]
    },
    {
     "name": "stderr",
     "output_type": "stream",
     "text": [
      "C:\\Users\\sarab\\AppData\\Local\\Temp\\ipykernel_1688\\1843594873.py:10: FutureWarning: In a future version, `df.iloc[:, i] = newvals` will attempt to set the values inplace instead of always setting a new array. To retain the old behavior, use either `df[df.columns[i]] = newvals` or, if columns are non-unique, `df.isetitem(i, newvals)`\n",
      "  df.loc[:,c] = df.loc[:,c].astype(int)\n"
     ]
    },
    {
     "name": "stdout",
     "output_type": "stream",
     "text": [
      "52589\n",
      "{1: 0.5032611382608531, 0: 0.496738861739147}\n",
      "AZ -> 52.796040202524\n"
     ]
    },
    {
     "name": "stderr",
     "output_type": "stream",
     "text": [
      "C:\\Users\\sarab\\AppData\\Local\\Temp\\ipykernel_1688\\1843594873.py:10: FutureWarning: In a future version, `df.iloc[:, i] = newvals` will attempt to set the values inplace instead of always setting a new array. To retain the old behavior, use either `df[df.columns[i]] = newvals` or, if columns are non-unique, `df.isetitem(i, newvals)`\n",
      "  df.loc[:,c] = df.loc[:,c].astype(int)\n"
     ]
    },
    {
     "name": "stdout",
     "output_type": "stream",
     "text": [
      "298838\n",
      "{1: 0.5369799021543445, 0: 0.4630200978456555}\n",
      "CA -> 53.66236679753224\n",
      "42090\n",
      "{1: 0.6010216203373723, 0: 0.3989783796626277}\n",
      "CO -> 52.88374115507768\n"
     ]
    },
    {
     "name": "stderr",
     "output_type": "stream",
     "text": [
      "C:\\Users\\sarab\\AppData\\Local\\Temp\\ipykernel_1688\\1843594873.py:10: FutureWarning: In a future version, `df.iloc[:, i] = newvals` will attempt to set the values inplace instead of always setting a new array. To retain the old behavior, use either `df[df.columns[i]] = newvals` or, if columns are non-unique, `df.isetitem(i, newvals)`\n",
      "  df.loc[:,c] = df.loc[:,c].astype(int)\n",
      "C:\\Users\\sarab\\AppData\\Local\\Temp\\ipykernel_1688\\1843594873.py:10: FutureWarning: In a future version, `df.iloc[:, i] = newvals` will attempt to set the values inplace instead of always setting a new array. To retain the old behavior, use either `df[df.columns[i]] = newvals` or, if columns are non-unique, `df.isetitem(i, newvals)`\n",
      "  df.loc[:,c] = df.loc[:,c].astype(int)\n",
      "C:\\Users\\sarab\\AppData\\Local\\Temp\\ipykernel_1688\\1843594873.py:10: FutureWarning: In a future version, `df.iloc[:, i] = newvals` will attempt to set the values inplace instead of always setting a new array. To retain the old behavior, use either `df[df.columns[i]] = newvals` or, if columns are non-unique, `df.isetitem(i, newvals)`\n",
      "  df.loc[:,c] = df.loc[:,c].astype(int)\n"
     ]
    },
    {
     "name": "stdout",
     "output_type": "stream",
     "text": [
      "29475\n",
      "{1: 0.582086513994911, 0: 0.41791348600508904}\n",
      "CT -> 50.92382118085912\n",
      "7406\n",
      "{1: 0.5445584661085606, 0: 0.4554415338914394}\n",
      "DE -> 50.38432928341186\n"
     ]
    },
    {
     "name": "stderr",
     "output_type": "stream",
     "text": [
      "C:\\Users\\sarab\\AppData\\Local\\Temp\\ipykernel_1688\\1843594873.py:10: FutureWarning: In a future version, `df.iloc[:, i] = newvals` will attempt to set the values inplace instead of always setting a new array. To retain the old behavior, use either `df[df.columns[i]] = newvals` or, if columns are non-unique, `df.isetitem(i, newvals)`\n",
      "  df.loc[:,c] = df.loc[:,c].astype(int)\n"
     ]
    },
    {
     "name": "stdout",
     "output_type": "stream",
     "text": [
      "160571\n",
      "{1: 0.5010992022220699, 0: 0.49890079777793}\n",
      "FL -> 50.90601774750814\n",
      "77261\n",
      "{1: 0.5274588731701635, 0: 0.4725411268298365}\n",
      "GA -> 51.521397722811145\n"
     ]
    },
    {
     "name": "stderr",
     "output_type": "stream",
     "text": [
      "C:\\Users\\sarab\\AppData\\Local\\Temp\\ipykernel_1688\\1843594873.py:10: FutureWarning: In a future version, `df.iloc[:, i] = newvals` will attempt to set the values inplace instead of always setting a new array. To retain the old behavior, use either `df[df.columns[i]] = newvals` or, if columns are non-unique, `df.isetitem(i, newvals)`\n",
      "  df.loc[:,c] = df.loc[:,c].astype(int)\n",
      "C:\\Users\\sarab\\AppData\\Local\\Temp\\ipykernel_1688\\1843594873.py:10: FutureWarning: In a future version, `df.iloc[:, i] = newvals` will attempt to set the values inplace instead of always setting a new array. To retain the old behavior, use either `df[df.columns[i]] = newvals` or, if columns are non-unique, `df.isetitem(i, newvals)`\n",
      "  df.loc[:,c] = df.loc[:,c].astype(int)\n",
      "C:\\Users\\sarab\\AppData\\Local\\Temp\\ipykernel_1688\\1843594873.py:10: FutureWarning: In a future version, `df.iloc[:, i] = newvals` will attempt to set the values inplace instead of always setting a new array. To retain the old behavior, use either `df[df.columns[i]] = newvals` or, if columns are non-unique, `df.isetitem(i, newvals)`\n",
      "  df.loc[:,c] = df.loc[:,c].astype(int)\n"
     ]
    },
    {
     "name": "stdout",
     "output_type": "stream",
     "text": [
      "11546\n",
      "{1: 0.5416594491598822, 0: 0.45834055084011777}\n",
      "HI -> 50.831467860569234\n",
      "25396\n",
      "{1: 0.598440699322728, 0: 0.401559300677272}\n",
      "IA -> 51.855507303592574\n",
      "11935\n",
      "{1: 0.5431922915793883, 0: 0.45680770842061164}\n",
      "ID -> 54.218725898503784\n"
     ]
    },
    {
     "name": "stderr",
     "output_type": "stream",
     "text": [
      "C:\\Users\\sarab\\AppData\\Local\\Temp\\ipykernel_1688\\1843594873.py:10: FutureWarning: In a future version, `df.iloc[:, i] = newvals` will attempt to set the values inplace instead of always setting a new array. To retain the old behavior, use either `df[df.columns[i]] = newvals` or, if columns are non-unique, `df.isetitem(i, newvals)`\n",
      "  df.loc[:,c] = df.loc[:,c].astype(int)\n",
      "C:\\Users\\sarab\\AppData\\Local\\Temp\\ipykernel_1688\\1843594873.py:10: FutureWarning: In a future version, `df.iloc[:, i] = newvals` will attempt to set the values inplace instead of always setting a new array. To retain the old behavior, use either `df[df.columns[i]] = newvals` or, if columns are non-unique, `df.isetitem(i, newvals)`\n",
      "  df.loc[:,c] = df.loc[:,c].astype(int)\n"
     ]
    },
    {
     "name": "stdout",
     "output_type": "stream",
     "text": [
      "102240\n",
      "{1: 0.5682609546165884, 0: 0.43173904538341157}\n",
      "IL -> 51.79262982151156\n",
      "53408\n",
      "{1: 0.5566020071899341, 0: 0.4433979928100659}\n",
      "IN -> 52.201702156288896\n",
      "22783\n",
      "{1: 0.5820567967344072, 0: 0.41794320326559276}\n",
      "KS -> 52.869316039514366\n"
     ]
    },
    {
     "name": "stderr",
     "output_type": "stream",
     "text": [
      "C:\\Users\\sarab\\AppData\\Local\\Temp\\ipykernel_1688\\1843594873.py:10: FutureWarning: In a future version, `df.iloc[:, i] = newvals` will attempt to set the values inplace instead of always setting a new array. To retain the old behavior, use either `df[df.columns[i]] = newvals` or, if columns are non-unique, `df.isetitem(i, newvals)`\n",
      "  df.loc[:,c] = df.loc[:,c].astype(int)\n",
      "C:\\Users\\sarab\\AppData\\Local\\Temp\\ipykernel_1688\\1843594873.py:10: FutureWarning: In a future version, `df.iloc[:, i] = newvals` will attempt to set the values inplace instead of always setting a new array. To retain the old behavior, use either `df[df.columns[i]] = newvals` or, if columns are non-unique, `df.isetitem(i, newvals)`\n",
      "  df.loc[:,c] = df.loc[:,c].astype(int)\n",
      "C:\\Users\\sarab\\AppData\\Local\\Temp\\ipykernel_1688\\1843594873.py:10: FutureWarning: In a future version, `df.iloc[:, i] = newvals` will attempt to set the values inplace instead of always setting a new array. To retain the old behavior, use either `df[df.columns[i]] = newvals` or, if columns are non-unique, `df.isetitem(i, newvals)`\n",
      "  df.loc[:,c] = df.loc[:,c].astype(int)\n"
     ]
    },
    {
     "name": "stdout",
     "output_type": "stream",
     "text": [
      "36108\n",
      "{1: 0.5106070676858314, 0: 0.4893929323141686}\n",
      "KY -> 51.84140586863373\n",
      "35484\n",
      "{1: 0.5126535903505806, 0: 0.48734640964941944}\n",
      "LA -> 51.35506569182563\n"
     ]
    },
    {
     "name": "stderr",
     "output_type": "stream",
     "text": [
      "C:\\Users\\sarab\\AppData\\Local\\Temp\\ipykernel_1688\\1843594873.py:10: FutureWarning: In a future version, `df.iloc[:, i] = newvals` will attempt to set the values inplace instead of always setting a new array. To retain the old behavior, use either `df[df.columns[i]] = newvals` or, if columns are non-unique, `df.isetitem(i, newvals)`\n",
      "  df.loc[:,c] = df.loc[:,c].astype(int)\n",
      "C:\\Users\\sarab\\AppData\\Local\\Temp\\ipykernel_1688\\1843594873.py:10: FutureWarning: In a future version, `df.iloc[:, i] = newvals` will attempt to set the values inplace instead of always setting a new array. To retain the old behavior, use either `df[df.columns[i]] = newvals` or, if columns are non-unique, `df.isetitem(i, newvals)`\n",
      "  df.loc[:,c] = df.loc[:,c].astype(int)\n"
     ]
    },
    {
     "name": "stdout",
     "output_type": "stream",
     "text": [
      "56286\n",
      "{1: 0.5952990086344739, 0: 0.40470099136552606}\n",
      "MA -> 49.870176381054705\n",
      "47531\n",
      "{1: 0.5993982874334645, 0: 0.40060171256653554}\n",
      "MD -> 50.26325026325026\n",
      "10897\n",
      "{1: 0.5351931724327796, 0: 0.46480682756722036}\n",
      "ME -> 50.41152263374485\n"
     ]
    },
    {
     "name": "stderr",
     "output_type": "stream",
     "text": [
      "C:\\Users\\sarab\\AppData\\Local\\Temp\\ipykernel_1688\\1843594873.py:10: FutureWarning: In a future version, `df.iloc[:, i] = newvals` will attempt to set the values inplace instead of always setting a new array. To retain the old behavior, use either `df[df.columns[i]] = newvals` or, if columns are non-unique, `df.isetitem(i, newvals)`\n",
      "  df.loc[:,c] = df.loc[:,c].astype(int)\n",
      "C:\\Users\\sarab\\AppData\\Local\\Temp\\ipykernel_1688\\1843594873.py:10: FutureWarning: In a future version, `df.iloc[:, i] = newvals` will attempt to set the values inplace instead of always setting a new array. To retain the old behavior, use either `df[df.columns[i]] = newvals` or, if columns are non-unique, `df.isetitem(i, newvals)`\n",
      "  df.loc[:,c] = df.loc[:,c].astype(int)\n",
      "C:\\Users\\sarab\\AppData\\Local\\Temp\\ipykernel_1688\\1843594873.py:10: FutureWarning: In a future version, `df.iloc[:, i] = newvals` will attempt to set the values inplace instead of always setting a new array. To retain the old behavior, use either `df[df.columns[i]] = newvals` or, if columns are non-unique, `df.isetitem(i, newvals)`\n",
      "  df.loc[:,c] = df.loc[:,c].astype(int)\n"
     ]
    },
    {
     "name": "stdout",
     "output_type": "stream",
     "text": [
      "80191\n",
      "{1: 0.5186741654300357, 0: 0.4813258345699642}\n",
      "MI -> 51.91738994542351\n",
      "43678\n",
      "{1: 0.6172901689637804, 0: 0.3827098310362196}\n",
      "MN -> 52.25502559157332\n",
      "49574\n",
      "{1: 0.5427643522814378, 0: 0.4572356477185622}\n"
     ]
    },
    {
     "name": "stderr",
     "output_type": "stream",
     "text": [
      "C:\\Users\\sarab\\AppData\\Local\\Temp\\ipykernel_1688\\1843594873.py:10: FutureWarning: In a future version, `df.iloc[:, i] = newvals` will attempt to set the values inplace instead of always setting a new array. To retain the old behavior, use either `df[df.columns[i]] = newvals` or, if columns are non-unique, `df.isetitem(i, newvals)`\n",
      "  df.loc[:,c] = df.loc[:,c].astype(int)\n",
      "C:\\Users\\sarab\\AppData\\Local\\Temp\\ipykernel_1688\\1843594873.py:10: FutureWarning: In a future version, `df.iloc[:, i] = newvals` will attempt to set the values inplace instead of always setting a new array. To retain the old behavior, use either `df[df.columns[i]] = newvals` or, if columns are non-unique, `df.isetitem(i, newvals)`\n",
      "  df.loc[:,c] = df.loc[:,c].astype(int)\n",
      "C:\\Users\\sarab\\AppData\\Local\\Temp\\ipykernel_1688\\1843594873.py:10: FutureWarning: In a future version, `df.iloc[:, i] = newvals` will attempt to set the values inplace instead of always setting a new array. To retain the old behavior, use either `df[df.columns[i]] = newvals` or, if columns are non-unique, `df.isetitem(i, newvals)`\n",
      "  df.loc[:,c] = df.loc[:,c].astype(int)\n"
     ]
    },
    {
     "name": "stdout",
     "output_type": "stream",
     "text": [
      "MO -> 51.02389712714164\n",
      "23362\n",
      "{0: 0.5296207516479754, 1: 0.47037924835202466}\n",
      "MS -> 50.623350623350625\n",
      "7985\n",
      "{1: 0.5561678146524733, 0: 0.4438321853475266}\n",
      "MT -> 52.1729340238685\n"
     ]
    },
    {
     "name": "stderr",
     "output_type": "stream",
     "text": [
      "C:\\Users\\sarab\\AppData\\Local\\Temp\\ipykernel_1688\\1843594873.py:10: FutureWarning: In a future version, `df.iloc[:, i] = newvals` will attempt to set the values inplace instead of always setting a new array. To retain the old behavior, use either `df[df.columns[i]] = newvals` or, if columns are non-unique, `df.isetitem(i, newvals)`\n",
      "  df.loc[:,c] = df.loc[:,c].astype(int)\n",
      "C:\\Users\\sarab\\AppData\\Local\\Temp\\ipykernel_1688\\1843594873.py:10: FutureWarning: In a future version, `df.iloc[:, i] = newvals` will attempt to set the values inplace instead of always setting a new array. To retain the old behavior, use either `df[df.columns[i]] = newvals` or, if columns are non-unique, `df.isetitem(i, newvals)`\n",
      "  df.loc[:,c] = df.loc[:,c].astype(int)\n",
      "C:\\Users\\sarab\\AppData\\Local\\Temp\\ipykernel_1688\\1843594873.py:10: FutureWarning: In a future version, `df.iloc[:, i] = newvals` will attempt to set the values inplace instead of always setting a new array. To retain the old behavior, use either `df[df.columns[i]] = newvals` or, if columns are non-unique, `df.isetitem(i, newvals)`\n",
      "  df.loc[:,c] = df.loc[:,c].astype(int)\n"
     ]
    },
    {
     "name": "stdout",
     "output_type": "stream",
     "text": [
      "79453\n",
      "{1: 0.5225856795841567, 0: 0.4774143204158433}\n",
      "NC -> 51.26803304352015\n",
      "6128\n",
      "{1: 0.6015013054830287, 0: 0.3984986945169713}\n",
      "ND -> 54.69343461747152\n",
      "15132\n",
      "{1: 0.6262225746761829, 0: 0.3737774253238171}\n",
      "NE -> 52.057830308146904\n",
      "11227\n",
      "{1: 0.6079985748641668, 0: 0.39200142513583325}\n",
      "NH -> 51.58218576032816\n"
     ]
    },
    {
     "name": "stderr",
     "output_type": "stream",
     "text": [
      "C:\\Users\\sarab\\AppData\\Local\\Temp\\ipykernel_1688\\1843594873.py:10: FutureWarning: In a future version, `df.iloc[:, i] = newvals` will attempt to set the values inplace instead of always setting a new array. To retain the old behavior, use either `df[df.columns[i]] = newvals` or, if columns are non-unique, `df.isetitem(i, newvals)`\n",
      "  df.loc[:,c] = df.loc[:,c].astype(int)\n",
      "C:\\Users\\sarab\\AppData\\Local\\Temp\\ipykernel_1688\\1843594873.py:10: FutureWarning: In a future version, `df.iloc[:, i] = newvals` will attempt to set the values inplace instead of always setting a new array. To retain the old behavior, use either `df[df.columns[i]] = newvals` or, if columns are non-unique, `df.isetitem(i, newvals)`\n",
      "  df.loc[:,c] = df.loc[:,c].astype(int)\n",
      "C:\\Users\\sarab\\AppData\\Local\\Temp\\ipykernel_1688\\1843594873.py:10: FutureWarning: In a future version, `df.iloc[:, i] = newvals` will attempt to set the values inplace instead of always setting a new array. To retain the old behavior, use either `df[df.columns[i]] = newvals` or, if columns are non-unique, `df.isetitem(i, newvals)`\n",
      "  df.loc[:,c] = df.loc[:,c].astype(int)\n"
     ]
    },
    {
     "name": "stdout",
     "output_type": "stream",
     "text": [
      "71194\n",
      "{1: 0.5807511868977723, 0: 0.4192488131022277}\n",
      "NJ -> 51.66400619165095\n",
      "15475\n",
      "{0: 0.5109531502423263, 1: 0.48904684975767365}\n",
      "NM -> 51.22885835095138\n",
      "21489\n",
      "{1: 0.5437200428126018, 0: 0.4562799571873982}\n",
      "NV -> 52.892844916124616\n"
     ]
    },
    {
     "name": "stderr",
     "output_type": "stream",
     "text": [
      "C:\\Users\\sarab\\AppData\\Local\\Temp\\ipykernel_1688\\1843594873.py:10: FutureWarning: In a future version, `df.iloc[:, i] = newvals` will attempt to set the values inplace instead of always setting a new array. To retain the old behavior, use either `df[df.columns[i]] = newvals` or, if columns are non-unique, `df.isetitem(i, newvals)`\n",
      "  df.loc[:,c] = df.loc[:,c].astype(int)\n",
      "C:\\Users\\sarab\\AppData\\Local\\Temp\\ipykernel_1688\\1843594873.py:10: FutureWarning: In a future version, `df.iloc[:, i] = newvals` will attempt to set the values inplace instead of always setting a new array. To retain the old behavior, use either `df[df.columns[i]] = newvals` or, if columns are non-unique, `df.isetitem(i, newvals)`\n",
      "  df.loc[:,c] = df.loc[:,c].astype(int)\n",
      "C:\\Users\\sarab\\AppData\\Local\\Temp\\ipykernel_1688\\1843594873.py:10: FutureWarning: In a future version, `df.iloc[:, i] = newvals` will attempt to set the values inplace instead of always setting a new array. To retain the old behavior, use either `df[df.columns[i]] = newvals` or, if columns are non-unique, `df.isetitem(i, newvals)`\n",
      "  df.loc[:,c] = df.loc[:,c].astype(int)\n"
     ]
    },
    {
     "name": "stdout",
     "output_type": "stream",
     "text": [
      "160266\n",
      "{1: 0.5505659341345014, 0: 0.4494340658654986}\n",
      "NY -> 50.627287872434465\n",
      "95226\n",
      "{1: 0.5521496230021212, 0: 0.4478503769978787}\n"
     ]
    },
    {
     "name": "stderr",
     "output_type": "stream",
     "text": [
      "C:\\Users\\sarab\\AppData\\Local\\Temp\\ipykernel_1688\\1843594873.py:10: FutureWarning: In a future version, `df.iloc[:, i] = newvals` will attempt to set the values inplace instead of always setting a new array. To retain the old behavior, use either `df[df.columns[i]] = newvals` or, if columns are non-unique, `df.isetitem(i, newvals)`\n",
      "  df.loc[:,c] = df.loc[:,c].astype(int)\n",
      "C:\\Users\\sarab\\AppData\\Local\\Temp\\ipykernel_1688\\1843594873.py:10: FutureWarning: In a future version, `df.iloc[:, i] = newvals` will attempt to set the values inplace instead of always setting a new array. To retain the old behavior, use either `df[df.columns[i]] = newvals` or, if columns are non-unique, `df.isetitem(i, newvals)`\n",
      "  df.loc[:,c] = df.loc[:,c].astype(int)\n",
      "C:\\Users\\sarab\\AppData\\Local\\Temp\\ipykernel_1688\\1843594873.py:10: FutureWarning: In a future version, `df.iloc[:, i] = newvals` will attempt to set the values inplace instead of always setting a new array. To retain the old behavior, use either `df[df.columns[i]] = newvals` or, if columns are non-unique, `df.isetitem(i, newvals)`\n",
      "  df.loc[:,c] = df.loc[:,c].astype(int)\n"
     ]
    },
    {
     "name": "stdout",
     "output_type": "stream",
     "text": [
      "OH -> 51.71075904828925\n",
      "29418\n",
      "{1: 0.5267523285063567, 0: 0.47324767149364333}\n",
      "OK -> 53.54930304594734\n",
      "32083\n",
      "{1: 0.532244490851853, 0: 0.467755509148147}\n",
      "OR -> 51.914968376669016\n"
     ]
    },
    {
     "name": "stderr",
     "output_type": "stream",
     "text": [
      "C:\\Users\\sarab\\AppData\\Local\\Temp\\ipykernel_1688\\1843594873.py:10: FutureWarning: In a future version, `df.iloc[:, i] = newvals` will attempt to set the values inplace instead of always setting a new array. To retain the old behavior, use either `df[df.columns[i]] = newvals` or, if columns are non-unique, `df.isetitem(i, newvals)`\n",
      "  df.loc[:,c] = df.loc[:,c].astype(int)\n",
      "C:\\Users\\sarab\\AppData\\Local\\Temp\\ipykernel_1688\\1843594873.py:10: FutureWarning: In a future version, `df.iloc[:, i] = newvals` will attempt to set the values inplace instead of always setting a new array. To retain the old behavior, use either `df[df.columns[i]] = newvals` or, if columns are non-unique, `df.isetitem(i, newvals)`\n",
      "  df.loc[:,c] = df.loc[:,c].astype(int)\n",
      "C:\\Users\\sarab\\AppData\\Local\\Temp\\ipykernel_1688\\1843594873.py:10: FutureWarning: In a future version, `df.iloc[:, i] = newvals` will attempt to set the values inplace instead of always setting a new array. To retain the old behavior, use either `df[df.columns[i]] = newvals` or, if columns are non-unique, `df.isetitem(i, newvals)`\n",
      "  df.loc[:,c] = df.loc[:,c].astype(int)\n"
     ]
    },
    {
     "name": "stdout",
     "output_type": "stream",
     "text": [
      "105512\n",
      "{1: 0.5526954280081886, 0: 0.44730457199181134}\n",
      "PA -> 52.05775430413608\n",
      "8914\n",
      "{1: 0.5689925959165358, 0: 0.4310074040834642}\n",
      "RI -> 50.177444794952685\n",
      "38896\n",
      "{1: 0.5096153846153846, 0: 0.49038461538461536}\n",
      "SC -> 51.23095550398548\n",
      "6787\n",
      "{1: 0.6139678797701488, 0: 0.38603212022985117}\n",
      "SD -> 52.603791696664274\n"
     ]
    },
    {
     "name": "stderr",
     "output_type": "stream",
     "text": [
      "C:\\Users\\sarab\\AppData\\Local\\Temp\\ipykernel_1688\\1843594873.py:10: FutureWarning: In a future version, `df.iloc[:, i] = newvals` will attempt to set the values inplace instead of always setting a new array. To retain the old behavior, use either `df[df.columns[i]] = newvals` or, if columns are non-unique, `df.isetitem(i, newvals)`\n",
      "  df.loc[:,c] = df.loc[:,c].astype(int)\n",
      "C:\\Users\\sarab\\AppData\\Local\\Temp\\ipykernel_1688\\1843594873.py:10: FutureWarning: In a future version, `df.iloc[:, i] = newvals` will attempt to set the values inplace instead of always setting a new array. To retain the old behavior, use either `df[df.columns[i]] = newvals` or, if columns are non-unique, `df.isetitem(i, newvals)`\n",
      "  df.loc[:,c] = df.loc[:,c].astype(int)\n"
     ]
    },
    {
     "name": "stdout",
     "output_type": "stream",
     "text": [
      "53044\n",
      "{1: 0.5196440690747304, 0: 0.48035593092526957}\n",
      "TN -> 51.55637788419678\n"
     ]
    },
    {
     "name": "stderr",
     "output_type": "stream",
     "text": [
      "C:\\Users\\sarab\\AppData\\Local\\Temp\\ipykernel_1688\\1843594873.py:10: FutureWarning: In a future version, `df.iloc[:, i] = newvals` will attempt to set the values inplace instead of always setting a new array. To retain the old behavior, use either `df[df.columns[i]] = newvals` or, if columns are non-unique, `df.isetitem(i, newvals)`\n",
      "  df.loc[:,c] = df.loc[:,c].astype(int)\n",
      "C:\\Users\\sarab\\AppData\\Local\\Temp\\ipykernel_1688\\1843594873.py:10: FutureWarning: In a future version, `df.iloc[:, i] = newvals` will attempt to set the values inplace instead of always setting a new array. To retain the old behavior, use either `df[df.columns[i]] = newvals` or, if columns are non-unique, `df.isetitem(i, newvals)`\n",
      "  df.loc[:,c] = df.loc[:,c].astype(int)\n"
     ]
    },
    {
     "name": "stdout",
     "output_type": "stream",
     "text": [
      "199010\n",
      "{1: 0.5622230038691522, 0: 0.4377769961308477}\n",
      "TX -> 53.82436007436008\n",
      "20823\n",
      "{1: 0.6112952024204005, 0: 0.38870479757959947}\n",
      "UT -> 56.39091837536334\n"
     ]
    },
    {
     "name": "stderr",
     "output_type": "stream",
     "text": [
      "C:\\Users\\sarab\\AppData\\Local\\Temp\\ipykernel_1688\\1843594873.py:10: FutureWarning: In a future version, `df.iloc[:, i] = newvals` will attempt to set the values inplace instead of always setting a new array. To retain the old behavior, use either `df[df.columns[i]] = newvals` or, if columns are non-unique, `df.isetitem(i, newvals)`\n",
      "  df.loc[:,c] = df.loc[:,c].astype(int)\n",
      "C:\\Users\\sarab\\AppData\\Local\\Temp\\ipykernel_1688\\1843594873.py:10: FutureWarning: In a future version, `df.iloc[:, i] = newvals` will attempt to set the values inplace instead of always setting a new array. To retain the old behavior, use either `df[df.columns[i]] = newvals` or, if columns are non-unique, `df.isetitem(i, newvals)`\n",
      "  df.loc[:,c] = df.loc[:,c].astype(int)\n",
      "C:\\Users\\sarab\\AppData\\Local\\Temp\\ipykernel_1688\\1843594873.py:10: FutureWarning: In a future version, `df.iloc[:, i] = newvals` will attempt to set the values inplace instead of always setting a new array. To retain the old behavior, use either `df[df.columns[i]] = newvals` or, if columns are non-unique, `df.isetitem(i, newvals)`\n",
      "  df.loc[:,c] = df.loc[:,c].astype(int)\n"
     ]
    },
    {
     "name": "stdout",
     "output_type": "stream",
     "text": [
      "67316\n",
      "{1: 0.5711717867966011, 0: 0.4288282132033989}\n",
      "VA -> 50.95321074670343\n",
      "5305\n",
      "{1: 0.5924599434495759, 0: 0.40754005655042413}\n",
      "VT -> 51.065860642698055\n",
      "56576\n",
      "{1: 0.550233314479638, 0: 0.449766685520362}\n",
      "WA -> 52.540957275939604\n",
      "47489\n",
      "{1: 0.5943481648381731, 0: 0.40565183516182696}\n",
      "WI -> 51.78742249778565\n",
      "15111\n",
      "{0: 0.5325921514128781, 1: 0.467407848587122}\n",
      "WV -> 52.44230496955967\n",
      "4574\n",
      "{1: 0.5972890249234806, 0: 0.4027109750765195}\n",
      "WY -> 53.294289897510986\n"
     ]
    },
    {
     "name": "stderr",
     "output_type": "stream",
     "text": [
      "C:\\Users\\sarab\\AppData\\Local\\Temp\\ipykernel_1688\\1843594873.py:10: FutureWarning: In a future version, `df.iloc[:, i] = newvals` will attempt to set the values inplace instead of always setting a new array. To retain the old behavior, use either `df[df.columns[i]] = newvals` or, if columns are non-unique, `df.isetitem(i, newvals)`\n",
      "  df.loc[:,c] = df.loc[:,c].astype(int)\n",
      "C:\\Users\\sarab\\AppData\\Local\\Temp\\ipykernel_1688\\1843594873.py:10: FutureWarning: In a future version, `df.iloc[:, i] = newvals` will attempt to set the values inplace instead of always setting a new array. To retain the old behavior, use either `df[df.columns[i]] = newvals` or, if columns are non-unique, `df.isetitem(i, newvals)`\n",
      "  df.loc[:,c] = df.loc[:,c].astype(int)\n",
      "C:\\Users\\sarab\\AppData\\Local\\Temp\\ipykernel_1688\\1843594873.py:10: FutureWarning: In a future version, `df.iloc[:, i] = newvals` will attempt to set the values inplace instead of always setting a new array. To retain the old behavior, use either `df[df.columns[i]] = newvals` or, if columns are non-unique, `df.isetitem(i, newvals)`\n",
      "  df.loc[:,c] = df.loc[:,c].astype(int)\n"
     ]
    },
    {
     "data": {
      "text/plain": "   state code  sample size (cleaned)  employed (rate, %)  male (rate, %)  \\\n0          AK                   5074               55.05           52.98   \n1          AL                  39150               48.45           47.29   \n2          AR                  23861               48.85           48.03   \n3          AZ                  52589               50.33           49.35   \n4          CA                 298838               53.70           49.07   \n5          CO                  42090               60.10           49.59   \n6          CT                  29475               58.21           47.82   \n7          DE                   7406               54.46           48.19   \n8          FL                 160571               50.11           47.70   \n9          GA                  77261               52.75           47.94   \n10         HI                  11546               54.17           49.60   \n11         IA                  25396               59.84           48.81   \n12         ID                  11935               54.32           49.83   \n13         IL                 102240               56.83           48.37   \n14         IN                  53408               55.66           48.47   \n15         KS                  22783               58.21           49.25   \n16         KY                  36108               51.06           48.24   \n17         LA                  35484               51.27           47.83   \n18         MA                  56286               59.53           47.47   \n19         MD                  47531               59.94           47.29   \n20         ME                  10897               53.52           48.46   \n21         MI                  80191               51.87           48.90   \n22         MN                  43678               61.73           50.14   \n23         MO                  49574               54.28           48.27   \n24         MS                  23362               47.04           47.10   \n25         MT                   7985               55.62           49.72   \n26         NC                  79453               52.26           47.80   \n27         ND                   6128               60.15           50.60   \n28         NE                  15132               62.62           49.07   \n29         NH                  11227               60.80           49.00   \n30         NJ                  71194               58.08           47.66   \n31         NM                  15475               48.90           48.61   \n32         NV                  21489               54.37           49.23   \n33         NY                 160266               55.06           47.64   \n34         OH                  95226               55.21           48.12   \n35         OK                  29418               52.68           49.64   \n36         OR                  32083               53.22           48.67   \n37         PA                 105512               55.27           48.78   \n38         RI                   8914               56.90           47.29   \n39         SC                  38896               50.96           47.72   \n40         SD                   6787               61.40           49.85   \n41         TN                  53044               51.96           47.74   \n42         TX                 199010               56.22           48.69   \n43         UT                  20823               61.13           49.80   \n44         VA                  67316               57.12           48.10   \n45         VT                   5305               59.25           48.77   \n46         WA                  56576               55.02           48.74   \n47         WI                  47489               59.43           49.76   \n48         WV                  15111               46.74           47.98   \n49         WY                   4574               59.73           49.58   \n\n    female (rate, %)  white (rate, %)  black (rate, %)  other (rate, %)  \\\n0              47.02            56.96             1.50            41.55   \n1              52.71            73.20            23.44             3.37   \n2              51.97            82.30            13.56             4.14   \n3              50.65            79.12             3.52            17.36   \n4              50.93            63.79             5.34            30.86   \n5              50.41            87.82             3.15             9.03   \n6              52.18            82.03             8.44             9.54   \n7              51.81            76.79            16.50             6.71   \n8              52.30            80.36            13.30             6.34   \n9              52.06            66.80            26.55             6.65   \n10             50.40            27.01             1.65            71.35   \n11             51.19            95.20             1.70             3.10   \n12             50.17            93.31             0.51             6.18   \n13             51.63            79.05            11.29             9.66   \n14             51.53            88.89             6.91             4.20   \n15             50.75            89.33             4.06             6.61   \n16             51.76            90.68             6.34             2.98   \n17             52.17            67.39            28.19             4.42   \n18             52.53            83.15             5.81            11.04   \n19             52.71            63.91            25.60            10.48   \n20             51.54            95.80             0.94             3.27   \n21             51.10            85.01             9.82             5.16   \n22             49.86            92.07             2.52             5.41   \n23             51.73            86.96             8.79             4.24   \n24             52.90            61.62            35.75             2.63   \n25             50.28            90.33             0.50             9.17   \n26             52.20            73.85            19.19             6.96   \n27             49.40            92.41             0.72             6.87   \n28             50.93            91.89             2.82             5.29   \n29             51.00            94.97             0.99             4.04   \n30             52.34            72.66            11.88            15.46   \n31             51.39            68.65             1.51            29.84   \n32             50.77            71.57             7.08            21.35   \n33             52.36            71.43            12.95            15.62   \n34             51.88            86.06             9.90             4.03   \n35             50.36            74.97             5.81            19.22   \n36             51.33            87.77             1.43            10.80   \n37             51.22            88.25             7.15             4.60   \n38             52.71            85.78             4.91             9.31   \n39             52.28            72.45            23.74             3.81   \n40             50.15            87.42             0.85            11.73   \n41             52.26            82.24            13.64             4.12   \n42             51.31            78.41            10.34            11.25   \n43             50.20            90.60             0.79             8.61   \n44             51.90            73.40            16.85             9.75   \n45             51.23            96.29             0.75             2.96   \n46             51.26            81.64             2.68            15.68   \n47             50.24            92.10             3.50             4.41   \n48             52.02            94.62             3.27             2.11   \n49             50.42            91.23             0.72             8.05   \n\n    [male,employed] (rate, %)  [white,employed] (rate, %)  \n0                       53.42                       62.51  \n1                       51.94                       75.53  \n2                       52.63                       83.46  \n3                       52.80                       80.08  \n4                       53.66                       63.49  \n5                       52.88                       88.44  \n6                       50.92                       82.88  \n7                       50.38                       76.64  \n8                       50.91                       80.00  \n9                       51.52                       68.42  \n10                      50.83                       23.60  \n11                      51.86                       95.76  \n12                      54.22                       93.18  \n13                      51.79                       81.46  \n14                      52.20                       90.16  \n15                      52.87                       90.10  \n16                      51.84                       91.12  \n17                      51.36                       70.37  \n18                      49.87                       84.02  \n19                      50.26                       64.84  \n20                      50.41                       95.97  \n21                      51.92                       87.25  \n22                      52.26                       92.63  \n23                      51.02                       88.61  \n24                      50.62                       64.68  \n25                      52.17                       92.64  \n26                      51.27                       75.46  \n27                      54.69                       94.00  \n28                      52.06                       92.80  \n29                      51.58                       95.11  \n30                      51.66                       73.02  \n31                      51.23                       71.25  \n32                      52.89                       70.61  \n33                      50.63                       72.62  \n34                      51.71                       87.85  \n35                      53.55                       75.39  \n36                      51.91                       87.57  \n37                      52.06                       90.10  \n38                      50.18                       86.97  \n39                      51.23                       74.62  \n40                      52.60                       90.64  \n41                      51.56                       82.86  \n42                      53.82                       78.68  \n43                      56.39                       90.70  \n44                      50.95                       74.26  \n45                      51.07                       96.79  \n46                      52.54                       81.28  \n47                      51.79                       93.27  \n48                      52.44                       94.97  \n49                      53.29                       92.94  ",
      "text/html": "<div>\n<style scoped>\n    .dataframe tbody tr th:only-of-type {\n        vertical-align: middle;\n    }\n\n    .dataframe tbody tr th {\n        vertical-align: top;\n    }\n\n    .dataframe thead th {\n        text-align: right;\n    }\n</style>\n<table border=\"1\" class=\"dataframe\">\n  <thead>\n    <tr style=\"text-align: right;\">\n      <th></th>\n      <th>state code</th>\n      <th>sample size (cleaned)</th>\n      <th>employed (rate, %)</th>\n      <th>male (rate, %)</th>\n      <th>female (rate, %)</th>\n      <th>white (rate, %)</th>\n      <th>black (rate, %)</th>\n      <th>other (rate, %)</th>\n      <th>[male,employed] (rate, %)</th>\n      <th>[white,employed] (rate, %)</th>\n    </tr>\n  </thead>\n  <tbody>\n    <tr>\n      <th>0</th>\n      <td>AK</td>\n      <td>5074</td>\n      <td>55.05</td>\n      <td>52.98</td>\n      <td>47.02</td>\n      <td>56.96</td>\n      <td>1.50</td>\n      <td>41.55</td>\n      <td>53.42</td>\n      <td>62.51</td>\n    </tr>\n    <tr>\n      <th>1</th>\n      <td>AL</td>\n      <td>39150</td>\n      <td>48.45</td>\n      <td>47.29</td>\n      <td>52.71</td>\n      <td>73.20</td>\n      <td>23.44</td>\n      <td>3.37</td>\n      <td>51.94</td>\n      <td>75.53</td>\n    </tr>\n    <tr>\n      <th>2</th>\n      <td>AR</td>\n      <td>23861</td>\n      <td>48.85</td>\n      <td>48.03</td>\n      <td>51.97</td>\n      <td>82.30</td>\n      <td>13.56</td>\n      <td>4.14</td>\n      <td>52.63</td>\n      <td>83.46</td>\n    </tr>\n    <tr>\n      <th>3</th>\n      <td>AZ</td>\n      <td>52589</td>\n      <td>50.33</td>\n      <td>49.35</td>\n      <td>50.65</td>\n      <td>79.12</td>\n      <td>3.52</td>\n      <td>17.36</td>\n      <td>52.80</td>\n      <td>80.08</td>\n    </tr>\n    <tr>\n      <th>4</th>\n      <td>CA</td>\n      <td>298838</td>\n      <td>53.70</td>\n      <td>49.07</td>\n      <td>50.93</td>\n      <td>63.79</td>\n      <td>5.34</td>\n      <td>30.86</td>\n      <td>53.66</td>\n      <td>63.49</td>\n    </tr>\n    <tr>\n      <th>5</th>\n      <td>CO</td>\n      <td>42090</td>\n      <td>60.10</td>\n      <td>49.59</td>\n      <td>50.41</td>\n      <td>87.82</td>\n      <td>3.15</td>\n      <td>9.03</td>\n      <td>52.88</td>\n      <td>88.44</td>\n    </tr>\n    <tr>\n      <th>6</th>\n      <td>CT</td>\n      <td>29475</td>\n      <td>58.21</td>\n      <td>47.82</td>\n      <td>52.18</td>\n      <td>82.03</td>\n      <td>8.44</td>\n      <td>9.54</td>\n      <td>50.92</td>\n      <td>82.88</td>\n    </tr>\n    <tr>\n      <th>7</th>\n      <td>DE</td>\n      <td>7406</td>\n      <td>54.46</td>\n      <td>48.19</td>\n      <td>51.81</td>\n      <td>76.79</td>\n      <td>16.50</td>\n      <td>6.71</td>\n      <td>50.38</td>\n      <td>76.64</td>\n    </tr>\n    <tr>\n      <th>8</th>\n      <td>FL</td>\n      <td>160571</td>\n      <td>50.11</td>\n      <td>47.70</td>\n      <td>52.30</td>\n      <td>80.36</td>\n      <td>13.30</td>\n      <td>6.34</td>\n      <td>50.91</td>\n      <td>80.00</td>\n    </tr>\n    <tr>\n      <th>9</th>\n      <td>GA</td>\n      <td>77261</td>\n      <td>52.75</td>\n      <td>47.94</td>\n      <td>52.06</td>\n      <td>66.80</td>\n      <td>26.55</td>\n      <td>6.65</td>\n      <td>51.52</td>\n      <td>68.42</td>\n    </tr>\n    <tr>\n      <th>10</th>\n      <td>HI</td>\n      <td>11546</td>\n      <td>54.17</td>\n      <td>49.60</td>\n      <td>50.40</td>\n      <td>27.01</td>\n      <td>1.65</td>\n      <td>71.35</td>\n      <td>50.83</td>\n      <td>23.60</td>\n    </tr>\n    <tr>\n      <th>11</th>\n      <td>IA</td>\n      <td>25396</td>\n      <td>59.84</td>\n      <td>48.81</td>\n      <td>51.19</td>\n      <td>95.20</td>\n      <td>1.70</td>\n      <td>3.10</td>\n      <td>51.86</td>\n      <td>95.76</td>\n    </tr>\n    <tr>\n      <th>12</th>\n      <td>ID</td>\n      <td>11935</td>\n      <td>54.32</td>\n      <td>49.83</td>\n      <td>50.17</td>\n      <td>93.31</td>\n      <td>0.51</td>\n      <td>6.18</td>\n      <td>54.22</td>\n      <td>93.18</td>\n    </tr>\n    <tr>\n      <th>13</th>\n      <td>IL</td>\n      <td>102240</td>\n      <td>56.83</td>\n      <td>48.37</td>\n      <td>51.63</td>\n      <td>79.05</td>\n      <td>11.29</td>\n      <td>9.66</td>\n      <td>51.79</td>\n      <td>81.46</td>\n    </tr>\n    <tr>\n      <th>14</th>\n      <td>IN</td>\n      <td>53408</td>\n      <td>55.66</td>\n      <td>48.47</td>\n      <td>51.53</td>\n      <td>88.89</td>\n      <td>6.91</td>\n      <td>4.20</td>\n      <td>52.20</td>\n      <td>90.16</td>\n    </tr>\n    <tr>\n      <th>15</th>\n      <td>KS</td>\n      <td>22783</td>\n      <td>58.21</td>\n      <td>49.25</td>\n      <td>50.75</td>\n      <td>89.33</td>\n      <td>4.06</td>\n      <td>6.61</td>\n      <td>52.87</td>\n      <td>90.10</td>\n    </tr>\n    <tr>\n      <th>16</th>\n      <td>KY</td>\n      <td>36108</td>\n      <td>51.06</td>\n      <td>48.24</td>\n      <td>51.76</td>\n      <td>90.68</td>\n      <td>6.34</td>\n      <td>2.98</td>\n      <td>51.84</td>\n      <td>91.12</td>\n    </tr>\n    <tr>\n      <th>17</th>\n      <td>LA</td>\n      <td>35484</td>\n      <td>51.27</td>\n      <td>47.83</td>\n      <td>52.17</td>\n      <td>67.39</td>\n      <td>28.19</td>\n      <td>4.42</td>\n      <td>51.36</td>\n      <td>70.37</td>\n    </tr>\n    <tr>\n      <th>18</th>\n      <td>MA</td>\n      <td>56286</td>\n      <td>59.53</td>\n      <td>47.47</td>\n      <td>52.53</td>\n      <td>83.15</td>\n      <td>5.81</td>\n      <td>11.04</td>\n      <td>49.87</td>\n      <td>84.02</td>\n    </tr>\n    <tr>\n      <th>19</th>\n      <td>MD</td>\n      <td>47531</td>\n      <td>59.94</td>\n      <td>47.29</td>\n      <td>52.71</td>\n      <td>63.91</td>\n      <td>25.60</td>\n      <td>10.48</td>\n      <td>50.26</td>\n      <td>64.84</td>\n    </tr>\n    <tr>\n      <th>20</th>\n      <td>ME</td>\n      <td>10897</td>\n      <td>53.52</td>\n      <td>48.46</td>\n      <td>51.54</td>\n      <td>95.80</td>\n      <td>0.94</td>\n      <td>3.27</td>\n      <td>50.41</td>\n      <td>95.97</td>\n    </tr>\n    <tr>\n      <th>21</th>\n      <td>MI</td>\n      <td>80191</td>\n      <td>51.87</td>\n      <td>48.90</td>\n      <td>51.10</td>\n      <td>85.01</td>\n      <td>9.82</td>\n      <td>5.16</td>\n      <td>51.92</td>\n      <td>87.25</td>\n    </tr>\n    <tr>\n      <th>22</th>\n      <td>MN</td>\n      <td>43678</td>\n      <td>61.73</td>\n      <td>50.14</td>\n      <td>49.86</td>\n      <td>92.07</td>\n      <td>2.52</td>\n      <td>5.41</td>\n      <td>52.26</td>\n      <td>92.63</td>\n    </tr>\n    <tr>\n      <th>23</th>\n      <td>MO</td>\n      <td>49574</td>\n      <td>54.28</td>\n      <td>48.27</td>\n      <td>51.73</td>\n      <td>86.96</td>\n      <td>8.79</td>\n      <td>4.24</td>\n      <td>51.02</td>\n      <td>88.61</td>\n    </tr>\n    <tr>\n      <th>24</th>\n      <td>MS</td>\n      <td>23362</td>\n      <td>47.04</td>\n      <td>47.10</td>\n      <td>52.90</td>\n      <td>61.62</td>\n      <td>35.75</td>\n      <td>2.63</td>\n      <td>50.62</td>\n      <td>64.68</td>\n    </tr>\n    <tr>\n      <th>25</th>\n      <td>MT</td>\n      <td>7985</td>\n      <td>55.62</td>\n      <td>49.72</td>\n      <td>50.28</td>\n      <td>90.33</td>\n      <td>0.50</td>\n      <td>9.17</td>\n      <td>52.17</td>\n      <td>92.64</td>\n    </tr>\n    <tr>\n      <th>26</th>\n      <td>NC</td>\n      <td>79453</td>\n      <td>52.26</td>\n      <td>47.80</td>\n      <td>52.20</td>\n      <td>73.85</td>\n      <td>19.19</td>\n      <td>6.96</td>\n      <td>51.27</td>\n      <td>75.46</td>\n    </tr>\n    <tr>\n      <th>27</th>\n      <td>ND</td>\n      <td>6128</td>\n      <td>60.15</td>\n      <td>50.60</td>\n      <td>49.40</td>\n      <td>92.41</td>\n      <td>0.72</td>\n      <td>6.87</td>\n      <td>54.69</td>\n      <td>94.00</td>\n    </tr>\n    <tr>\n      <th>28</th>\n      <td>NE</td>\n      <td>15132</td>\n      <td>62.62</td>\n      <td>49.07</td>\n      <td>50.93</td>\n      <td>91.89</td>\n      <td>2.82</td>\n      <td>5.29</td>\n      <td>52.06</td>\n      <td>92.80</td>\n    </tr>\n    <tr>\n      <th>29</th>\n      <td>NH</td>\n      <td>11227</td>\n      <td>60.80</td>\n      <td>49.00</td>\n      <td>51.00</td>\n      <td>94.97</td>\n      <td>0.99</td>\n      <td>4.04</td>\n      <td>51.58</td>\n      <td>95.11</td>\n    </tr>\n    <tr>\n      <th>30</th>\n      <td>NJ</td>\n      <td>71194</td>\n      <td>58.08</td>\n      <td>47.66</td>\n      <td>52.34</td>\n      <td>72.66</td>\n      <td>11.88</td>\n      <td>15.46</td>\n      <td>51.66</td>\n      <td>73.02</td>\n    </tr>\n    <tr>\n      <th>31</th>\n      <td>NM</td>\n      <td>15475</td>\n      <td>48.90</td>\n      <td>48.61</td>\n      <td>51.39</td>\n      <td>68.65</td>\n      <td>1.51</td>\n      <td>29.84</td>\n      <td>51.23</td>\n      <td>71.25</td>\n    </tr>\n    <tr>\n      <th>32</th>\n      <td>NV</td>\n      <td>21489</td>\n      <td>54.37</td>\n      <td>49.23</td>\n      <td>50.77</td>\n      <td>71.57</td>\n      <td>7.08</td>\n      <td>21.35</td>\n      <td>52.89</td>\n      <td>70.61</td>\n    </tr>\n    <tr>\n      <th>33</th>\n      <td>NY</td>\n      <td>160266</td>\n      <td>55.06</td>\n      <td>47.64</td>\n      <td>52.36</td>\n      <td>71.43</td>\n      <td>12.95</td>\n      <td>15.62</td>\n      <td>50.63</td>\n      <td>72.62</td>\n    </tr>\n    <tr>\n      <th>34</th>\n      <td>OH</td>\n      <td>95226</td>\n      <td>55.21</td>\n      <td>48.12</td>\n      <td>51.88</td>\n      <td>86.06</td>\n      <td>9.90</td>\n      <td>4.03</td>\n      <td>51.71</td>\n      <td>87.85</td>\n    </tr>\n    <tr>\n      <th>35</th>\n      <td>OK</td>\n      <td>29418</td>\n      <td>52.68</td>\n      <td>49.64</td>\n      <td>50.36</td>\n      <td>74.97</td>\n      <td>5.81</td>\n      <td>19.22</td>\n      <td>53.55</td>\n      <td>75.39</td>\n    </tr>\n    <tr>\n      <th>36</th>\n      <td>OR</td>\n      <td>32083</td>\n      <td>53.22</td>\n      <td>48.67</td>\n      <td>51.33</td>\n      <td>87.77</td>\n      <td>1.43</td>\n      <td>10.80</td>\n      <td>51.91</td>\n      <td>87.57</td>\n    </tr>\n    <tr>\n      <th>37</th>\n      <td>PA</td>\n      <td>105512</td>\n      <td>55.27</td>\n      <td>48.78</td>\n      <td>51.22</td>\n      <td>88.25</td>\n      <td>7.15</td>\n      <td>4.60</td>\n      <td>52.06</td>\n      <td>90.10</td>\n    </tr>\n    <tr>\n      <th>38</th>\n      <td>RI</td>\n      <td>8914</td>\n      <td>56.90</td>\n      <td>47.29</td>\n      <td>52.71</td>\n      <td>85.78</td>\n      <td>4.91</td>\n      <td>9.31</td>\n      <td>50.18</td>\n      <td>86.97</td>\n    </tr>\n    <tr>\n      <th>39</th>\n      <td>SC</td>\n      <td>38896</td>\n      <td>50.96</td>\n      <td>47.72</td>\n      <td>52.28</td>\n      <td>72.45</td>\n      <td>23.74</td>\n      <td>3.81</td>\n      <td>51.23</td>\n      <td>74.62</td>\n    </tr>\n    <tr>\n      <th>40</th>\n      <td>SD</td>\n      <td>6787</td>\n      <td>61.40</td>\n      <td>49.85</td>\n      <td>50.15</td>\n      <td>87.42</td>\n      <td>0.85</td>\n      <td>11.73</td>\n      <td>52.60</td>\n      <td>90.64</td>\n    </tr>\n    <tr>\n      <th>41</th>\n      <td>TN</td>\n      <td>53044</td>\n      <td>51.96</td>\n      <td>47.74</td>\n      <td>52.26</td>\n      <td>82.24</td>\n      <td>13.64</td>\n      <td>4.12</td>\n      <td>51.56</td>\n      <td>82.86</td>\n    </tr>\n    <tr>\n      <th>42</th>\n      <td>TX</td>\n      <td>199010</td>\n      <td>56.22</td>\n      <td>48.69</td>\n      <td>51.31</td>\n      <td>78.41</td>\n      <td>10.34</td>\n      <td>11.25</td>\n      <td>53.82</td>\n      <td>78.68</td>\n    </tr>\n    <tr>\n      <th>43</th>\n      <td>UT</td>\n      <td>20823</td>\n      <td>61.13</td>\n      <td>49.80</td>\n      <td>50.20</td>\n      <td>90.60</td>\n      <td>0.79</td>\n      <td>8.61</td>\n      <td>56.39</td>\n      <td>90.70</td>\n    </tr>\n    <tr>\n      <th>44</th>\n      <td>VA</td>\n      <td>67316</td>\n      <td>57.12</td>\n      <td>48.10</td>\n      <td>51.90</td>\n      <td>73.40</td>\n      <td>16.85</td>\n      <td>9.75</td>\n      <td>50.95</td>\n      <td>74.26</td>\n    </tr>\n    <tr>\n      <th>45</th>\n      <td>VT</td>\n      <td>5305</td>\n      <td>59.25</td>\n      <td>48.77</td>\n      <td>51.23</td>\n      <td>96.29</td>\n      <td>0.75</td>\n      <td>2.96</td>\n      <td>51.07</td>\n      <td>96.79</td>\n    </tr>\n    <tr>\n      <th>46</th>\n      <td>WA</td>\n      <td>56576</td>\n      <td>55.02</td>\n      <td>48.74</td>\n      <td>51.26</td>\n      <td>81.64</td>\n      <td>2.68</td>\n      <td>15.68</td>\n      <td>52.54</td>\n      <td>81.28</td>\n    </tr>\n    <tr>\n      <th>47</th>\n      <td>WI</td>\n      <td>47489</td>\n      <td>59.43</td>\n      <td>49.76</td>\n      <td>50.24</td>\n      <td>92.10</td>\n      <td>3.50</td>\n      <td>4.41</td>\n      <td>51.79</td>\n      <td>93.27</td>\n    </tr>\n    <tr>\n      <th>48</th>\n      <td>WV</td>\n      <td>15111</td>\n      <td>46.74</td>\n      <td>47.98</td>\n      <td>52.02</td>\n      <td>94.62</td>\n      <td>3.27</td>\n      <td>2.11</td>\n      <td>52.44</td>\n      <td>94.97</td>\n    </tr>\n    <tr>\n      <th>49</th>\n      <td>WY</td>\n      <td>4574</td>\n      <td>59.73</td>\n      <td>49.58</td>\n      <td>50.42</td>\n      <td>91.23</td>\n      <td>0.72</td>\n      <td>8.05</td>\n      <td>53.29</td>\n      <td>92.94</td>\n    </tr>\n  </tbody>\n</table>\n</div>"
     },
     "execution_count": 10,
     "metadata": {},
     "output_type": "execute_result"
    }
   ],
   "source": [
    "table_1 = {'state code':[],'sample size (cleaned)':[], 'employed (rate, %)':[],\n",
    "           'male (rate, %)':[],'female (rate, %)':[],'white (rate, %)':[],'black (rate, %)':[],'other (rate, %)':[],\n",
    "           '[male,employed] (rate, %)':[], '[white,employed] (rate, %)':[]}\n",
    "\n",
    "for p in data_file_paths:\n",
    "\n",
    "    # load data and change RAC1P values\n",
    "    df = pd.read_csv(p)\n",
    "    for c in task_infos['tasks'][1]['columns']:\n",
    "        df.loc[:,c] = df.loc[:,c].astype(int)\n",
    "\n",
    "    # age between 16 and 90\n",
    "    df = df[df['AGEP'].between(16,90)]\n",
    "    df['RAC1P'] = pd.to_numeric(df['RAC1P'])\n",
    "    df.loc[df['RAC1P'] > 2, 'RAC1P'] = 3\n",
    "\n",
    "    # state name\n",
    "    table_1['state code'].append(state_pattern.findall(p)[-1])\n",
    "    # sample size\n",
    "    table_1['sample size (cleaned)'].append(len(df))\n",
    "\n",
    "    # percentage of employed (esr 1) in dataset\n",
    "    table_1['employed (rate, %)'].append(round(df['ESR'].value_counts(normalize=True).to_dict()[1],4)*100)\n",
    "    # share of male and female\n",
    "    table_1['male (rate, %)'].append(round(df['SEX'].value_counts(normalize=True).to_dict()[1],4)*100)\n",
    "    table_1['female (rate, %)'].append(round(df['SEX'].value_counts(normalize=True).to_dict()[2],4)*100)\n",
    "    # share of white,black,other (RAC1P)\n",
    "    table_1['white (rate, %)'].append(round(df['RAC1P'].value_counts(normalize=True).to_dict()[1],4)*100)\n",
    "    table_1['black (rate, %)'].append(round(df['RAC1P'].value_counts(normalize=True).to_dict()[2],4)*100)\n",
    "    table_1['other (rate, %)'].append(round(df['RAC1P'].value_counts(normalize=True).to_dict()[3],4)*100)\n",
    "    # share of male employed                                        ,2))\n",
    "    table_1['[male,employed] (rate, %)'].append(round( (len(df[ (df['SEX']==1) & (df['ESR']==1) ])/len\n",
    "    (df[df['ESR']==1])), 4) *100)\n",
    "    # share of white employed\n",
    "    table_1['[white,employed] (rate, %)'].append(round( (len(df[ (df['RAC1P']==1) & (df['ESR']==1) ])/len\n",
    "    (df[df['ESR']==1])), 4) *100)\n",
    "table1_final = pd.DataFrame.from_dict(table_1)\n",
    "table1_final"
   ],
   "metadata": {
    "collapsed": false
   }
  },
  {
   "cell_type": "code",
   "execution_count": 29,
   "outputs": [
    {
     "name": "stdout",
     "output_type": "stream",
     "text": [
      "\\begin{tabular}{llrrrrrrrrr}\n",
      "\\toprule\n",
      "{} & state code &  sample size (cleaned) &  employed (rate, \\%) &  male (rate, \\%) &  female (rate, \\%) &  white (rate, \\%) &  black (rate, \\%) &  other (rate, \\%) &  [male,employed] (rate, \\%) &  [white,employed] (rate, \\%) \\\\\n",
      "\\midrule\n",
      "0  &         AK &                   5155 &               54.06 &           52.86 &             47.14 &            59.13 &             1.84 &            39.03 &                      53.14 &                       62.33 \\\\\n",
      "1  &         AL &                  39366 &               49.71 &           47.64 &             52.36 &            75.16 &            21.08 &             3.76 &                      52.38 &                       76.98 \\\\\n",
      "2  &         AR &                  24454 &               50.27 &           48.13 &             51.87 &            82.93 &            11.65 &             5.43 &                      51.90 &                       83.75 \\\\\n",
      "3  &         AZ &                  56420 &               51.70 &           49.26 &             50.74 &            79.15 &             3.80 &            17.05 &                      52.51 &                       79.06 \\\\\n",
      "4  &         CA &                 307986 &               56.09 &           48.98 &             51.02 &            62.44 &             4.95 &            32.61 &                      53.02 &                       61.72 \\\\\n",
      "5  &         CO &                  45167 &               61.67 &           49.64 &             50.36 &            87.99 &             2.76 &             9.25 &                      52.90 &                       88.24 \\\\\n",
      "6  &         CT &                  29858 &               59.15 &           48.12 &             51.88 &            81.54 &             8.28 &            10.18 &                      51.12 &                       82.07 \\\\\n",
      "7  &         DE &                   7675 &               54.06 &           47.69 &             52.31 &            77.33 &            15.93 &             6.74 &                      50.40 &                       77.03 \\\\\n",
      "8  &         FL &                 169985 &               51.94 &           48.25 &             51.75 &            80.95 &            11.68 &             7.37 &                      51.46 &                       80.20 \\\\\n",
      "9  &         GA &                  81405 &               55.39 &           48.10 &             51.90 &            67.16 &            24.93 &             7.91 &                      51.75 &                       68.12 \\\\\n",
      "10 &         HI &                  11710 &               55.73 &           50.03 &             49.97 &            26.26 &             1.81 &            71.93 &                      50.80 &                       23.34 \\\\\n",
      "11 &         IA &                  26015 &               60.63 &           49.43 &             50.57 &            94.56 &             1.85 &             3.59 &                      52.33 &                       94.93 \\\\\n",
      "12 &         ID &                  13043 &               54.93 &           49.67 &             50.33 &            92.36 &             0.53 &             7.11 &                      54.76 &                       92.32 \\\\\n",
      "13 &         IL &                 102724 &               58.59 &           48.61 &             51.39 &            80.09 &            10.04 &             9.88 &                      51.89 &                       81.48 \\\\\n",
      "14 &         IN &                  54323 &               57.27 &           48.99 &             51.01 &            88.24 &             6.66 &             5.10 &                      52.60 &                       89.16 \\\\\n",
      "15 &         KS &                  23561 &               59.10 &           49.61 &             50.39 &            88.60 &             4.06 &             7.34 &                      52.66 &                       89.41 \\\\\n",
      "16 &         KY &                  36794 &               52.48 &           48.65 &             51.35 &            90.70 &             5.91 &             3.39 &                      51.97 &                       90.94 \\\\\n",
      "17 &         LA &                  35510 &               51.31 &           47.75 &             52.25 &            68.39 &            26.48 &             5.13 &                      50.11 &                       71.57 \\\\\n",
      "18 &         MA &                  58502 &               60.53 &           48.07 &             51.93 &            82.41 &             5.74 &            11.84 &                      50.10 &                       82.61 \\\\\n",
      "19 &         MD &                  48776 &               60.35 &           47.64 &             52.36 &            63.46 &            24.64 &            11.90 &                      50.47 &                       63.85 \\\\\n",
      "20 &         ME &                  11234 &               53.96 &           49.00 &             51.00 &            95.42 &             0.92 &             3.66 &                      50.33 &                       95.53 \\\\\n",
      "21 &         MI &                  81605 &               54.03 &           49.31 &             50.69 &            85.73 &             8.63 &             5.64 &                      52.44 &                       87.00 \\\\\n",
      "22 &         MN &                  44817 &               61.96 &           50.36 &             49.64 &            91.19 &             2.73 &             6.08 &                      52.50 &                       91.49 \\\\\n",
      "23 &         MO &                  50640 &               55.22 &           48.89 &             51.11 &            88.17 &             7.65 &             4.18 &                      51.83 &                       89.05 \\\\\n",
      "24 &         MS &                  23636 &               48.59 &           47.21 &             52.79 &            63.99 &            32.78 &             3.23 &                      50.45 &                       66.33 \\\\\n",
      "25 &         MT &                   8406 &               55.97 &           50.34 &             49.66 &            90.84 &             0.19 &             8.97 &                      52.77 &                       92.22 \\\\\n",
      "26 &         NC &                  84077 &               54.01 &           47.71 &             52.29 &            74.64 &            17.27 &             8.09 &                      50.93 &                       75.30 \\\\\n",
      "27 &         ND &                   6321 &               61.37 &           51.67 &             48.33 &            90.78 &             1.12 &             8.10 &                      54.89 &                       91.54 \\\\\n",
      "28 &         NE &                  15450 &               62.17 &           49.62 &             50.38 &            91.22 &             2.60 &             6.18 &                      52.48 &                       91.41 \\\\\n",
      "29 &         NH &                  11599 &               60.36 &           48.99 &             51.01 &            94.28 &             1.24 &             4.48 &                      51.68 &                       94.54 \\\\\n",
      "30 &         NJ &                  72639 &               59.09 &           48.18 &             51.82 &            73.25 &            10.47 &            16.28 &                      52.16 &                       73.45 \\\\\n",
      "31 &         NM &                  15725 &               48.14 &           48.72 &             51.28 &            71.48 &             1.86 &            26.66 &                      51.07 &                       73.24 \\\\\n",
      "32 &         NV &                  23483 &               56.02 &           49.47 &             50.53 &            69.28 &             7.40 &            23.32 &                      52.80 &                       67.73 \\\\\n",
      "33 &         NY &                 162428 &               56.30 &           47.92 &             52.08 &            71.03 &            12.26 &            16.72 &                      50.66 &                       71.70 \\\\\n",
      "34 &         OH &                  96983 &               56.64 &           48.59 &             51.41 &            86.52 &             9.06 &             4.43 &                      51.71 &                       87.57 \\\\\n",
      "35 &         OK &                  29794 &               52.75 &           49.44 &             50.56 &            74.71 &             5.62 &            19.67 &                      53.17 &                       75.05 \\\\\n",
      "36 &         OR &                  34608 &               55.65 &           49.21 &             50.79 &            87.38 &             1.46 &            11.16 &                      52.28 &                       86.62 \\\\\n",
      "37 &         PA &                 106961 &               56.28 &           48.83 &             51.17 &            88.12 &             6.48 &             5.40 &                      51.77 &                       89.25 \\\\\n",
      "38 &         RI &                   8774 &               57.36 &           47.53 &             52.47 &            86.18 &             4.89 &             8.94 &                      49.59 &                       86.89 \\\\\n",
      "39 &         SC &                  41155 &               52.67 &           47.57 &             52.43 &            73.82 &            21.36 &             4.82 &                      50.51 &                       74.95 \\\\\n",
      "40 &         SD &                   6902 &               61.92 &           49.49 &             50.51 &            87.67 &             0.90 &            11.43 &                      51.68 &                       90.59 \\\\\n",
      "41 &         TN &                  55284 &               54.49 &           48.14 &             51.86 &            83.57 &            12.22 &             4.21 &                      52.01 &                       83.88 \\\\\n",
      "42 &         TX &                 212094 &               57.12 &           48.74 &             51.26 &            78.13 &             9.64 &            12.23 &                      53.37 &                       78.10 \\\\\n",
      "43 &         UT &                  23356 &               63.02 &           49.26 &             50.74 &            89.84 &             0.80 &             9.36 &                      55.05 &                       89.57 \\\\\n",
      "44 &         VA &                  69123 &               58.12 &           48.38 &             51.62 &            74.09 &            15.14 &            10.76 &                      51.24 &                       74.15 \\\\\n",
      "45 &         VT &                   5463 &               59.45 &           49.37 &             50.63 &            96.25 &             0.68 &             3.08 &                      50.83 &                       96.34 \\\\\n",
      "46 &         WA &                  61695 &               56.49 &           49.34 &             50.66 &            79.73 &             2.77 &            17.49 &                      52.81 &                       78.54 \\\\\n",
      "47 &         WI &                  48740 &               60.32 &           50.65 &             49.35 &            92.12 &             3.20 &             4.68 &                      52.55 &                       93.09 \\\\\n",
      "48 &         WV &                  15108 &               46.60 &           49.21 &             50.79 &            94.53 &             3.30 &             2.17 &                      52.28 &                       95.36 \\\\\n",
      "49 &         WY &                   4634 &               57.60 &           49.76 &             50.24 &            91.02 &             0.50 &             8.48 &                      52.75 &                       92.24 \\\\\n",
      "\\bottomrule\n",
      "\\end{tabular}\n",
      "\n"
     ]
    },
    {
     "name": "stderr",
     "output_type": "stream",
     "text": [
      "C:\\Users\\sarab\\AppData\\Local\\Temp\\ipykernel_15236\\792255623.py:2: FutureWarning: In future versions `DataFrame.to_latex` is expected to utilise the base implementation of `Styler.to_latex` for formatting and rendering. The arguments signature may therefore change. It is recommended instead to use `DataFrame.style.to_latex` which also contains additional functionality.\n",
      "  print(table1_final.to_latex())\n"
     ]
    }
   ],
   "source": [
    "#table1_final.style.to_latex()\n",
    "print(table1_final.to_latex())"
   ],
   "metadata": {
    "collapsed": false
   }
  },
  {
   "cell_type": "markdown",
   "source": [
    "## Table with domain knowledge groups for each year"
   ],
   "metadata": {
    "collapsed": false
   }
  },
  {
   "cell_type": "code",
   "execution_count": 3,
   "outputs": [],
   "source": [
    "json_file_path = os.path.join(udir,'clustering_infos.json')\n",
    "with open(json_file_path, 'r') as j:\n",
    "    clustering_infos = json.loads(j.read())"
   ],
   "metadata": {
    "collapsed": false
   }
  },
  {
   "cell_type": "code",
   "execution_count": 4,
   "outputs": [
    {
     "data": {
      "text/plain": "{'BEA_clustering': {'2014': {'0': ['ME',\n    'VT',\n    'RI',\n    'DE',\n    'ND',\n    'SD',\n    'MT',\n    'ID',\n    'WY',\n    'AK'],\n   '1': ['NH', 'WV', 'MS', 'AR', 'KS', 'NE', 'NM', 'UT', 'NV', 'HI'],\n   '2': ['CT', 'KY', 'SC', 'AL', 'IA', 'MO', 'LA', 'OK', 'AZ', 'OR'],\n   '3': ['MA', 'MD', 'VA', 'TN', 'IN', 'MI', 'WI', 'MN', 'CO', 'WA'],\n   '4': ['CA', 'TX', 'IL', 'FL', 'GA', 'NC', 'OH', 'PA', 'NY', 'NJ']},\n  '2015': {'0': ['ME', 'VT', 'RI', 'WV', 'ND', 'SD', 'MT', 'ID', 'WY', 'AK'],\n   '1': ['NH', 'DE', 'MS', 'AR', 'KS', 'NE', 'NM', 'UT', 'NV', 'HI'],\n   '2': ['CT', 'KY', 'SC', 'AL', 'IA', 'MO', 'LA', 'OK', 'AZ', 'OR'],\n   '3': ['MA', 'MD', 'VA', 'TN', 'IN', 'MI', 'WI', 'MN', 'CO', 'WA'],\n   '4': ['CA', 'TX', 'IL', 'FL', 'GA', 'NC', 'OH', 'PA', 'NY', 'NJ']},\n  '2016': {'0': ['ME', 'VT', 'RI', 'DE', 'ND', 'SD', 'MT', 'ID', 'WY', 'AK'],\n   '1': ['NH', 'WV', 'MS', 'AR', 'KS', 'NE', 'NM', 'UT', 'NV', 'HI'],\n   '2': ['CT', 'KY', 'SC', 'AL', 'IA', 'MO', 'LA', 'OK', 'AZ', 'OR'],\n   '3': ['MA', 'MD', 'VA', 'TN', 'IN', 'MI', 'WI', 'MN', 'CO', 'WA'],\n   '4': ['CA', 'TX', 'IL', 'FL', 'GA', 'NC', 'OH', 'PA', 'NY', 'NJ']},\n  '2017': {'0': ['ME', 'VT', 'RI', 'DE', 'ND', 'SD', 'MT', 'ID', 'WY', 'AK'],\n   '1': ['NH', 'WV', 'MS', 'AR', 'KS', 'NE', 'NM', 'UT', 'NV', 'HI'],\n   '2': ['CT', 'KY', 'SC', 'AL', 'IA', 'MO', 'LA', 'OK', 'OR', 'WI'],\n   '3': ['AZ', 'MA', 'MD', 'VA', 'TN', 'IN', 'MI', 'MN', 'CO', 'WA'],\n   '4': ['CA', 'TX', 'IL', 'FL', 'GA', 'NC', 'OH', 'PA', 'NY', 'NJ']},\n  '2018': {'0': ['ME', 'VT', 'RI', 'DE', 'ND', 'SD', 'MT', 'ID', 'WY', 'AK'],\n   '1': ['NH', 'WV', 'MS', 'AR', 'KS', 'NE', 'NM', 'UT', 'NV', 'HI'],\n   '2': ['CT', 'KY', 'SC', 'AL', 'IA', 'MO', 'LA', 'OK', 'OR', 'WI'],\n   '3': ['AZ', 'MA', 'MD', 'VA', 'TN', 'IN', 'MI', 'MN', 'CO', 'WA'],\n   '4': ['CA', 'TX', 'IL', 'FL', 'GA', 'NC', 'OH', 'PA', 'NY', 'NJ']}}}"
     },
     "execution_count": 4,
     "metadata": {},
     "output_type": "execute_result"
    }
   ],
   "source": [
    "clustering_infos"
   ],
   "metadata": {
    "collapsed": false
   }
  },
  {
   "cell_type": "code",
   "execution_count": 5,
   "outputs": [],
   "source": [
    "prova = pd.DataFrame.from_dict(clustering_infos['BEA_clustering'], orient='index')\n",
    "groups = prova.T"
   ],
   "metadata": {
    "collapsed": false
   }
  },
  {
   "cell_type": "code",
   "execution_count": 6,
   "outputs": [],
   "source": [
    "groups= groups.rename(index={'0': 'Group 1','1':'Group 2','2':'Group 3','3':'Group 4','4':'Group 5'})"
   ],
   "metadata": {
    "collapsed": false
   }
  },
  {
   "cell_type": "code",
   "execution_count": 7,
   "outputs": [
    {
     "data": {
      "text/plain": "                                             2014  \\\nGroup 1  [ME, VT, RI, DE, ND, SD, MT, ID, WY, AK]   \nGroup 2  [NH, WV, MS, AR, KS, NE, NM, UT, NV, HI]   \nGroup 3  [CT, KY, SC, AL, IA, MO, LA, OK, AZ, OR]   \nGroup 4  [MA, MD, VA, TN, IN, MI, WI, MN, CO, WA]   \nGroup 5  [CA, TX, IL, FL, GA, NC, OH, PA, NY, NJ]   \n\n                                             2015  \\\nGroup 1  [ME, VT, RI, WV, ND, SD, MT, ID, WY, AK]   \nGroup 2  [NH, DE, MS, AR, KS, NE, NM, UT, NV, HI]   \nGroup 3  [CT, KY, SC, AL, IA, MO, LA, OK, AZ, OR]   \nGroup 4  [MA, MD, VA, TN, IN, MI, WI, MN, CO, WA]   \nGroup 5  [CA, TX, IL, FL, GA, NC, OH, PA, NY, NJ]   \n\n                                             2016  \\\nGroup 1  [ME, VT, RI, DE, ND, SD, MT, ID, WY, AK]   \nGroup 2  [NH, WV, MS, AR, KS, NE, NM, UT, NV, HI]   \nGroup 3  [CT, KY, SC, AL, IA, MO, LA, OK, AZ, OR]   \nGroup 4  [MA, MD, VA, TN, IN, MI, WI, MN, CO, WA]   \nGroup 5  [CA, TX, IL, FL, GA, NC, OH, PA, NY, NJ]   \n\n                                             2017  \\\nGroup 1  [ME, VT, RI, DE, ND, SD, MT, ID, WY, AK]   \nGroup 2  [NH, WV, MS, AR, KS, NE, NM, UT, NV, HI]   \nGroup 3  [CT, KY, SC, AL, IA, MO, LA, OK, OR, WI]   \nGroup 4  [AZ, MA, MD, VA, TN, IN, MI, MN, CO, WA]   \nGroup 5  [CA, TX, IL, FL, GA, NC, OH, PA, NY, NJ]   \n\n                                             2018  \nGroup 1  [ME, VT, RI, DE, ND, SD, MT, ID, WY, AK]  \nGroup 2  [NH, WV, MS, AR, KS, NE, NM, UT, NV, HI]  \nGroup 3  [CT, KY, SC, AL, IA, MO, LA, OK, OR, WI]  \nGroup 4  [AZ, MA, MD, VA, TN, IN, MI, MN, CO, WA]  \nGroup 5  [CA, TX, IL, FL, GA, NC, OH, PA, NY, NJ]  ",
      "text/html": "<div>\n<style scoped>\n    .dataframe tbody tr th:only-of-type {\n        vertical-align: middle;\n    }\n\n    .dataframe tbody tr th {\n        vertical-align: top;\n    }\n\n    .dataframe thead th {\n        text-align: right;\n    }\n</style>\n<table border=\"1\" class=\"dataframe\">\n  <thead>\n    <tr style=\"text-align: right;\">\n      <th></th>\n      <th>2014</th>\n      <th>2015</th>\n      <th>2016</th>\n      <th>2017</th>\n      <th>2018</th>\n    </tr>\n  </thead>\n  <tbody>\n    <tr>\n      <th>Group 1</th>\n      <td>[ME, VT, RI, DE, ND, SD, MT, ID, WY, AK]</td>\n      <td>[ME, VT, RI, WV, ND, SD, MT, ID, WY, AK]</td>\n      <td>[ME, VT, RI, DE, ND, SD, MT, ID, WY, AK]</td>\n      <td>[ME, VT, RI, DE, ND, SD, MT, ID, WY, AK]</td>\n      <td>[ME, VT, RI, DE, ND, SD, MT, ID, WY, AK]</td>\n    </tr>\n    <tr>\n      <th>Group 2</th>\n      <td>[NH, WV, MS, AR, KS, NE, NM, UT, NV, HI]</td>\n      <td>[NH, DE, MS, AR, KS, NE, NM, UT, NV, HI]</td>\n      <td>[NH, WV, MS, AR, KS, NE, NM, UT, NV, HI]</td>\n      <td>[NH, WV, MS, AR, KS, NE, NM, UT, NV, HI]</td>\n      <td>[NH, WV, MS, AR, KS, NE, NM, UT, NV, HI]</td>\n    </tr>\n    <tr>\n      <th>Group 3</th>\n      <td>[CT, KY, SC, AL, IA, MO, LA, OK, AZ, OR]</td>\n      <td>[CT, KY, SC, AL, IA, MO, LA, OK, AZ, OR]</td>\n      <td>[CT, KY, SC, AL, IA, MO, LA, OK, AZ, OR]</td>\n      <td>[CT, KY, SC, AL, IA, MO, LA, OK, OR, WI]</td>\n      <td>[CT, KY, SC, AL, IA, MO, LA, OK, OR, WI]</td>\n    </tr>\n    <tr>\n      <th>Group 4</th>\n      <td>[MA, MD, VA, TN, IN, MI, WI, MN, CO, WA]</td>\n      <td>[MA, MD, VA, TN, IN, MI, WI, MN, CO, WA]</td>\n      <td>[MA, MD, VA, TN, IN, MI, WI, MN, CO, WA]</td>\n      <td>[AZ, MA, MD, VA, TN, IN, MI, MN, CO, WA]</td>\n      <td>[AZ, MA, MD, VA, TN, IN, MI, MN, CO, WA]</td>\n    </tr>\n    <tr>\n      <th>Group 5</th>\n      <td>[CA, TX, IL, FL, GA, NC, OH, PA, NY, NJ]</td>\n      <td>[CA, TX, IL, FL, GA, NC, OH, PA, NY, NJ]</td>\n      <td>[CA, TX, IL, FL, GA, NC, OH, PA, NY, NJ]</td>\n      <td>[CA, TX, IL, FL, GA, NC, OH, PA, NY, NJ]</td>\n      <td>[CA, TX, IL, FL, GA, NC, OH, PA, NY, NJ]</td>\n    </tr>\n  </tbody>\n</table>\n</div>"
     },
     "execution_count": 7,
     "metadata": {},
     "output_type": "execute_result"
    }
   ],
   "source": [
    "groups"
   ],
   "metadata": {
    "collapsed": false
   }
  },
  {
   "cell_type": "code",
   "execution_count": 12,
   "outputs": [
    {
     "name": "stdout",
     "output_type": "stream",
     "text": [
      "\\begin{table}\n",
      "\\centering\n",
      "\\caption{Groups of US states following US Bureau of Economic Analysis GDP reports}\n",
      "\\begin{tabular}{ll}\n",
      "\\toprule\n",
      "{} &                                      2018 \\\\\n",
      "\\midrule\n",
      "Group 1 &  [ME, VT, RI, DE, ND, SD, MT, ID, WY, AK] \\\\\n",
      "Group 2 &  [NH, WV, MS, AR, KS, NE, NM, UT, NV, HI] \\\\\n",
      "Group 3 &  [CT, KY, SC, AL, IA, MO, LA, OK, OR, WI] \\\\\n",
      "Group 4 &  [AZ, MA, MD, VA, TN, IN, MI, MN, CO, WA] \\\\\n",
      "Group 5 &  [CA, TX, IL, FL, GA, NC, OH, PA, NY, NJ] \\\\\n",
      "\\bottomrule\n",
      "\\end{tabular}\n",
      "\\end{table}\n",
      "\n"
     ]
    },
    {
     "name": "stderr",
     "output_type": "stream",
     "text": [
      "C:\\Users\\sarab\\AppData\\Local\\Temp\\ipykernel_16256\\357604081.py:1: FutureWarning: In future versions `DataFrame.to_latex` is expected to utilise the base implementation of `Styler.to_latex` for formatting and rendering. The arguments signature may therefore change. It is recommended instead to use `DataFrame.style.to_latex` which also contains additional functionality.\n",
      "  print(groups['2018'].to_latex(caption='Groups of US states following US Bureau of Economic Analysis GDP reports'))\n"
     ]
    }
   ],
   "source": [
    "print(groups['2018'].to_latex(caption='Groups of US states following US Bureau of Economic Analysis GDP reports'))"
   ],
   "metadata": {
    "collapsed": false
   }
  },
  {
   "cell_type": "code",
   "execution_count": null,
   "outputs": [],
   "source": [],
   "metadata": {
    "collapsed": false
   }
  }
 ],
 "metadata": {
  "kernelspec": {
   "display_name": "Python 3",
   "language": "python",
   "name": "python3"
  },
  "language_info": {
   "codemirror_mode": {
    "name": "ipython",
    "version": 2
   },
   "file_extension": ".py",
   "mimetype": "text/x-python",
   "name": "python",
   "nbconvert_exporter": "python",
   "pygments_lexer": "ipython2",
   "version": "2.7.6"
  }
 },
 "nbformat": 4,
 "nbformat_minor": 0
}
