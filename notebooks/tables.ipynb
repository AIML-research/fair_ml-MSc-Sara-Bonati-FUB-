{
 "cells": [
  {
   "cell_type": "markdown",
   "source": [
    "# Tables for thesis"
   ],
   "metadata": {
    "collapsed": false
   }
  },
  {
   "cell_type": "code",
   "execution_count": 1,
   "outputs": [],
   "source": [
    "import pandas as pd\n",
    "import numpy as np\n",
    "import glob\n",
    "import os\n",
    "import json\n",
    "import re\n",
    "from pathlib import Path"
   ],
   "metadata": {
    "collapsed": false
   }
  },
  {
   "cell_type": "code",
   "execution_count": 2,
   "outputs": [],
   "source": [
    "# directory management\n",
    "wdir = os.getcwd()\n",
    "udir = os.path.join(os.path.split(wdir)[0], \"utils\")\n",
    "ddir = os.path.join(os.path.split(os.path.split(wdir)[0])[0], \"fair_ml_thesis_data\", \"rawdata\")\n",
    "\n",
    "json_file_path = os.path.join(udir,'tasks_metadata.json')\n",
    "with open(json_file_path, 'r') as j:\n",
    "    task_infos = json.loads(j.read())"
   ],
   "metadata": {
    "collapsed": false
   }
  },
  {
   "cell_type": "markdown",
   "source": [
    "## Create year table with this info for each state:\n",
    "- sample size\n",
    "- share of positive class\n",
    "- share of male vs female\n",
    "- share of white/black/other\n",
    "- share of privileged group in positive class (sex)\n",
    "- share of privileged group in positive class (race)"
   ],
   "metadata": {
    "collapsed": false
   }
  },
  {
   "cell_type": "code",
   "execution_count": 3,
   "outputs": [
    {
     "data": {
      "text/plain": "['C:\\\\Users\\\\sarab\\\\Desktop\\\\Data_Science_MSc\\\\master_thesis\\\\fair_ml_thesis_data\\\\rawdata\\\\2014\\\\1-Year\\\\2014_AK_ACSEmployment.csv',\n 'C:\\\\Users\\\\sarab\\\\Desktop\\\\Data_Science_MSc\\\\master_thesis\\\\fair_ml_thesis_data\\\\rawdata\\\\2014\\\\1-Year\\\\2014_AL_ACSEmployment.csv',\n 'C:\\\\Users\\\\sarab\\\\Desktop\\\\Data_Science_MSc\\\\master_thesis\\\\fair_ml_thesis_data\\\\rawdata\\\\2014\\\\1-Year\\\\2014_AR_ACSEmployment.csv',\n 'C:\\\\Users\\\\sarab\\\\Desktop\\\\Data_Science_MSc\\\\master_thesis\\\\fair_ml_thesis_data\\\\rawdata\\\\2014\\\\1-Year\\\\2014_AZ_ACSEmployment.csv',\n 'C:\\\\Users\\\\sarab\\\\Desktop\\\\Data_Science_MSc\\\\master_thesis\\\\fair_ml_thesis_data\\\\rawdata\\\\2014\\\\1-Year\\\\2014_CA_ACSEmployment.csv',\n 'C:\\\\Users\\\\sarab\\\\Desktop\\\\Data_Science_MSc\\\\master_thesis\\\\fair_ml_thesis_data\\\\rawdata\\\\2014\\\\1-Year\\\\2014_CO_ACSEmployment.csv',\n 'C:\\\\Users\\\\sarab\\\\Desktop\\\\Data_Science_MSc\\\\master_thesis\\\\fair_ml_thesis_data\\\\rawdata\\\\2014\\\\1-Year\\\\2014_CT_ACSEmployment.csv',\n 'C:\\\\Users\\\\sarab\\\\Desktop\\\\Data_Science_MSc\\\\master_thesis\\\\fair_ml_thesis_data\\\\rawdata\\\\2014\\\\1-Year\\\\2014_DE_ACSEmployment.csv',\n 'C:\\\\Users\\\\sarab\\\\Desktop\\\\Data_Science_MSc\\\\master_thesis\\\\fair_ml_thesis_data\\\\rawdata\\\\2014\\\\1-Year\\\\2014_FL_ACSEmployment.csv',\n 'C:\\\\Users\\\\sarab\\\\Desktop\\\\Data_Science_MSc\\\\master_thesis\\\\fair_ml_thesis_data\\\\rawdata\\\\2014\\\\1-Year\\\\2014_GA_ACSEmployment.csv',\n 'C:\\\\Users\\\\sarab\\\\Desktop\\\\Data_Science_MSc\\\\master_thesis\\\\fair_ml_thesis_data\\\\rawdata\\\\2014\\\\1-Year\\\\2014_HI_ACSEmployment.csv',\n 'C:\\\\Users\\\\sarab\\\\Desktop\\\\Data_Science_MSc\\\\master_thesis\\\\fair_ml_thesis_data\\\\rawdata\\\\2014\\\\1-Year\\\\2014_IA_ACSEmployment.csv',\n 'C:\\\\Users\\\\sarab\\\\Desktop\\\\Data_Science_MSc\\\\master_thesis\\\\fair_ml_thesis_data\\\\rawdata\\\\2014\\\\1-Year\\\\2014_ID_ACSEmployment.csv',\n 'C:\\\\Users\\\\sarab\\\\Desktop\\\\Data_Science_MSc\\\\master_thesis\\\\fair_ml_thesis_data\\\\rawdata\\\\2014\\\\1-Year\\\\2014_IL_ACSEmployment.csv',\n 'C:\\\\Users\\\\sarab\\\\Desktop\\\\Data_Science_MSc\\\\master_thesis\\\\fair_ml_thesis_data\\\\rawdata\\\\2014\\\\1-Year\\\\2014_IN_ACSEmployment.csv',\n 'C:\\\\Users\\\\sarab\\\\Desktop\\\\Data_Science_MSc\\\\master_thesis\\\\fair_ml_thesis_data\\\\rawdata\\\\2014\\\\1-Year\\\\2014_KS_ACSEmployment.csv',\n 'C:\\\\Users\\\\sarab\\\\Desktop\\\\Data_Science_MSc\\\\master_thesis\\\\fair_ml_thesis_data\\\\rawdata\\\\2014\\\\1-Year\\\\2014_KY_ACSEmployment.csv',\n 'C:\\\\Users\\\\sarab\\\\Desktop\\\\Data_Science_MSc\\\\master_thesis\\\\fair_ml_thesis_data\\\\rawdata\\\\2014\\\\1-Year\\\\2014_LA_ACSEmployment.csv',\n 'C:\\\\Users\\\\sarab\\\\Desktop\\\\Data_Science_MSc\\\\master_thesis\\\\fair_ml_thesis_data\\\\rawdata\\\\2014\\\\1-Year\\\\2014_MA_ACSEmployment.csv',\n 'C:\\\\Users\\\\sarab\\\\Desktop\\\\Data_Science_MSc\\\\master_thesis\\\\fair_ml_thesis_data\\\\rawdata\\\\2014\\\\1-Year\\\\2014_MD_ACSEmployment.csv',\n 'C:\\\\Users\\\\sarab\\\\Desktop\\\\Data_Science_MSc\\\\master_thesis\\\\fair_ml_thesis_data\\\\rawdata\\\\2014\\\\1-Year\\\\2014_ME_ACSEmployment.csv',\n 'C:\\\\Users\\\\sarab\\\\Desktop\\\\Data_Science_MSc\\\\master_thesis\\\\fair_ml_thesis_data\\\\rawdata\\\\2014\\\\1-Year\\\\2014_MI_ACSEmployment.csv',\n 'C:\\\\Users\\\\sarab\\\\Desktop\\\\Data_Science_MSc\\\\master_thesis\\\\fair_ml_thesis_data\\\\rawdata\\\\2014\\\\1-Year\\\\2014_MN_ACSEmployment.csv',\n 'C:\\\\Users\\\\sarab\\\\Desktop\\\\Data_Science_MSc\\\\master_thesis\\\\fair_ml_thesis_data\\\\rawdata\\\\2014\\\\1-Year\\\\2014_MO_ACSEmployment.csv',\n 'C:\\\\Users\\\\sarab\\\\Desktop\\\\Data_Science_MSc\\\\master_thesis\\\\fair_ml_thesis_data\\\\rawdata\\\\2014\\\\1-Year\\\\2014_MS_ACSEmployment.csv',\n 'C:\\\\Users\\\\sarab\\\\Desktop\\\\Data_Science_MSc\\\\master_thesis\\\\fair_ml_thesis_data\\\\rawdata\\\\2014\\\\1-Year\\\\2014_MT_ACSEmployment.csv',\n 'C:\\\\Users\\\\sarab\\\\Desktop\\\\Data_Science_MSc\\\\master_thesis\\\\fair_ml_thesis_data\\\\rawdata\\\\2014\\\\1-Year\\\\2014_NC_ACSEmployment.csv',\n 'C:\\\\Users\\\\sarab\\\\Desktop\\\\Data_Science_MSc\\\\master_thesis\\\\fair_ml_thesis_data\\\\rawdata\\\\2014\\\\1-Year\\\\2014_ND_ACSEmployment.csv',\n 'C:\\\\Users\\\\sarab\\\\Desktop\\\\Data_Science_MSc\\\\master_thesis\\\\fair_ml_thesis_data\\\\rawdata\\\\2014\\\\1-Year\\\\2014_NE_ACSEmployment.csv',\n 'C:\\\\Users\\\\sarab\\\\Desktop\\\\Data_Science_MSc\\\\master_thesis\\\\fair_ml_thesis_data\\\\rawdata\\\\2014\\\\1-Year\\\\2014_NH_ACSEmployment.csv',\n 'C:\\\\Users\\\\sarab\\\\Desktop\\\\Data_Science_MSc\\\\master_thesis\\\\fair_ml_thesis_data\\\\rawdata\\\\2014\\\\1-Year\\\\2014_NJ_ACSEmployment.csv',\n 'C:\\\\Users\\\\sarab\\\\Desktop\\\\Data_Science_MSc\\\\master_thesis\\\\fair_ml_thesis_data\\\\rawdata\\\\2014\\\\1-Year\\\\2014_NM_ACSEmployment.csv',\n 'C:\\\\Users\\\\sarab\\\\Desktop\\\\Data_Science_MSc\\\\master_thesis\\\\fair_ml_thesis_data\\\\rawdata\\\\2014\\\\1-Year\\\\2014_NV_ACSEmployment.csv',\n 'C:\\\\Users\\\\sarab\\\\Desktop\\\\Data_Science_MSc\\\\master_thesis\\\\fair_ml_thesis_data\\\\rawdata\\\\2014\\\\1-Year\\\\2014_NY_ACSEmployment.csv',\n 'C:\\\\Users\\\\sarab\\\\Desktop\\\\Data_Science_MSc\\\\master_thesis\\\\fair_ml_thesis_data\\\\rawdata\\\\2014\\\\1-Year\\\\2014_OH_ACSEmployment.csv',\n 'C:\\\\Users\\\\sarab\\\\Desktop\\\\Data_Science_MSc\\\\master_thesis\\\\fair_ml_thesis_data\\\\rawdata\\\\2014\\\\1-Year\\\\2014_OK_ACSEmployment.csv',\n 'C:\\\\Users\\\\sarab\\\\Desktop\\\\Data_Science_MSc\\\\master_thesis\\\\fair_ml_thesis_data\\\\rawdata\\\\2014\\\\1-Year\\\\2014_OR_ACSEmployment.csv',\n 'C:\\\\Users\\\\sarab\\\\Desktop\\\\Data_Science_MSc\\\\master_thesis\\\\fair_ml_thesis_data\\\\rawdata\\\\2014\\\\1-Year\\\\2014_PA_ACSEmployment.csv',\n 'C:\\\\Users\\\\sarab\\\\Desktop\\\\Data_Science_MSc\\\\master_thesis\\\\fair_ml_thesis_data\\\\rawdata\\\\2014\\\\1-Year\\\\2014_PR_ACSEmployment.csv',\n 'C:\\\\Users\\\\sarab\\\\Desktop\\\\Data_Science_MSc\\\\master_thesis\\\\fair_ml_thesis_data\\\\rawdata\\\\2014\\\\1-Year\\\\2014_RI_ACSEmployment.csv',\n 'C:\\\\Users\\\\sarab\\\\Desktop\\\\Data_Science_MSc\\\\master_thesis\\\\fair_ml_thesis_data\\\\rawdata\\\\2014\\\\1-Year\\\\2014_SC_ACSEmployment.csv',\n 'C:\\\\Users\\\\sarab\\\\Desktop\\\\Data_Science_MSc\\\\master_thesis\\\\fair_ml_thesis_data\\\\rawdata\\\\2014\\\\1-Year\\\\2014_SD_ACSEmployment.csv',\n 'C:\\\\Users\\\\sarab\\\\Desktop\\\\Data_Science_MSc\\\\master_thesis\\\\fair_ml_thesis_data\\\\rawdata\\\\2014\\\\1-Year\\\\2014_TN_ACSEmployment.csv',\n 'C:\\\\Users\\\\sarab\\\\Desktop\\\\Data_Science_MSc\\\\master_thesis\\\\fair_ml_thesis_data\\\\rawdata\\\\2014\\\\1-Year\\\\2014_TX_ACSEmployment.csv',\n 'C:\\\\Users\\\\sarab\\\\Desktop\\\\Data_Science_MSc\\\\master_thesis\\\\fair_ml_thesis_data\\\\rawdata\\\\2014\\\\1-Year\\\\2014_UT_ACSEmployment.csv',\n 'C:\\\\Users\\\\sarab\\\\Desktop\\\\Data_Science_MSc\\\\master_thesis\\\\fair_ml_thesis_data\\\\rawdata\\\\2014\\\\1-Year\\\\2014_VA_ACSEmployment.csv',\n 'C:\\\\Users\\\\sarab\\\\Desktop\\\\Data_Science_MSc\\\\master_thesis\\\\fair_ml_thesis_data\\\\rawdata\\\\2014\\\\1-Year\\\\2014_VT_ACSEmployment.csv',\n 'C:\\\\Users\\\\sarab\\\\Desktop\\\\Data_Science_MSc\\\\master_thesis\\\\fair_ml_thesis_data\\\\rawdata\\\\2014\\\\1-Year\\\\2014_WA_ACSEmployment.csv',\n 'C:\\\\Users\\\\sarab\\\\Desktop\\\\Data_Science_MSc\\\\master_thesis\\\\fair_ml_thesis_data\\\\rawdata\\\\2014\\\\1-Year\\\\2014_WI_ACSEmployment.csv',\n 'C:\\\\Users\\\\sarab\\\\Desktop\\\\Data_Science_MSc\\\\master_thesis\\\\fair_ml_thesis_data\\\\rawdata\\\\2014\\\\1-Year\\\\2014_WV_ACSEmployment.csv',\n 'C:\\\\Users\\\\sarab\\\\Desktop\\\\Data_Science_MSc\\\\master_thesis\\\\fair_ml_thesis_data\\\\rawdata\\\\2014\\\\1-Year\\\\2014_WY_ACSEmployment.csv']"
     },
     "execution_count": 3,
     "metadata": {},
     "output_type": "execute_result"
    }
   ],
   "source": [
    "# get all files for year y\n",
    "year=2014\n",
    "task='ACSEmployment'\n",
    "data_file_paths = glob.glob(os.path.join(ddir, str(year), '1-Year') + f'/{str(year)}*_{task}.csv')\n",
    "data_file_paths"
   ],
   "metadata": {
    "collapsed": false
   }
  },
  {
   "cell_type": "code",
   "execution_count": 4,
   "outputs": [
    {
     "name": "stdout",
     "output_type": "stream",
     "text": [
      "AK\n"
     ]
    }
   ],
   "source": [
    "state_pattern = re.compile(r\"_([^_]+)_\")\n",
    "test_path = Path(data_file_paths[0])\n",
    "print(state_pattern.findall(test_path.name)[-1])"
   ],
   "metadata": {
    "collapsed": false
   }
  },
  {
   "cell_type": "code",
   "execution_count": 5,
   "outputs": [
    {
     "data": {
      "text/plain": "   state  sample_size  %_employed_dataset  %_male  %_female  %_white  %_black  \\\n0     AK         5074              55.045  52.976    47.024   56.957    1.498   \n1     AL        39150              48.447  47.290    52.710   73.195   23.438   \n2     AR        23861              48.845  48.032    51.968   82.302   13.558   \n3     AZ        52589              50.326  49.351    50.649   79.125    3.520   \n4     CA       298838              53.698  49.071    50.929   63.793    5.344   \n5     CO        42090              60.102  49.587    50.413   87.824    3.146   \n6     CT        29475              58.209  47.820    52.180   82.025    8.438   \n7     DE         7406              54.456  48.191    51.809   76.789   16.500   \n8     FL       160571              50.110  47.695    52.305   80.361   13.302   \n9     GA        77261              52.746  47.944    52.056   66.798   26.549   \n10    HI        11546              54.166  49.602    50.398   27.005    1.646   \n11    IA        25396              59.844  48.811    51.189   95.200    1.701   \n12    ID        11935              54.319  49.828    50.172   93.305    0.511   \n13    IL       102240              56.826  48.371    51.629   79.046   11.291   \n14    IN        53408              55.660  48.472    51.528   88.889    6.909   \n15    KS        22783              58.206  49.247    50.753   89.325    4.064   \n16    KY        36108              51.061  48.241    51.759   90.684    6.339   \n17    LA        35484              51.265  47.830    52.170   67.394   28.187   \n18    MA        56286              59.530  47.468    52.532   83.152    5.811   \n19    MD        47531              59.940  47.289    52.711   63.914   25.604   \n20    ME        10897              53.519  48.463    51.537   95.797    0.936   \n21    MI        80191              51.867  48.901    51.099   85.013    9.823   \n22    MN        43678              61.729  50.144    49.856   92.067    2.518   \n23    MO        49574              54.276  48.271    51.729   86.963    8.795   \n24    MS        23362              47.038  47.098    52.902   61.617   35.755   \n25    MT         7985              55.617  49.718    50.282   90.332    0.501   \n26    NC        79453              52.259  47.801    52.199   73.850   19.191   \n27    ND         6128              60.150  50.604    49.396   92.412    0.718   \n28    NE        15132              62.622  49.075    50.925   91.891    2.822   \n29    NH        11227              60.800  48.998    51.002   94.967    0.989   \n30    NJ        71194              58.075  47.656    52.344   72.658   11.882   \n31    NM        15475              48.905  48.614    51.386   68.653    1.512   \n32    NV        21489              54.372  49.230    50.770   71.572    7.078   \n33    NY       160266              55.057  47.639    52.361   71.434   12.948   \n34    OH        95226              55.215  48.122    51.878   86.065    9.904   \n35    OK        29418              52.675  49.640    50.360   74.975    5.809   \n36    OR        32083              53.224  48.674    51.326   87.772    1.431   \n37    PA       105512              55.270  48.784    51.216   88.250    7.155   \n38    PR        26287              33.267  46.464    53.536   71.754    9.533   \n39    RI         8914              56.899  47.285    52.715   85.775    4.914   \n40    SC        38896              50.962  47.722    52.278   72.450   23.740   \n41    SD         6787              61.397  49.845    50.155   87.417    0.855   \n42    TN        53044              51.964  47.736    52.264   82.236   13.642   \n43    TX       199010              56.222  48.690    51.310   78.408   10.339   \n44    UT        20823              61.130  49.801    50.199   90.597    0.792   \n45    VA        67316              57.117  48.100    51.900   73.399   16.849   \n46    VT         5305              59.246  48.765    51.235   96.287    0.754   \n47    WA        56576              55.023  48.742    51.258   81.644    2.680   \n48    WI        47489              59.435  49.763    50.237   92.095    3.500   \n49    WV        15111              46.741  47.985    52.015   94.620    3.269   \n50    WY         4574              59.729  49.585    50.415   91.233    0.721   \n\n    %_other  %_male_employed  %_white_employed  \n0    41.545         53.41926          62.51343  \n1     3.367         51.94285          75.53119  \n2     4.141         52.62977          83.45774  \n3    17.355         52.79604          80.07632  \n4    30.863         53.66237          63.48975  \n5     9.031         52.88374          88.43736  \n6     9.537         50.92382          82.87579  \n7     6.711         50.38433          76.64270  \n8     6.337         50.90602          80.00298  \n9     6.653         51.52140          68.41627  \n10   71.349         50.83147          23.60090  \n11    3.099         51.85551          95.76260  \n12    6.183         54.21873          93.18217  \n13    9.663         51.79263          81.45579  \n14    4.202         52.20170          90.15710  \n15    6.610         52.86932          90.09879  \n16    2.977         51.84141          91.12112  \n17    4.419         51.35507          70.36996  \n18   11.036         49.87018          84.01528  \n19   10.482         50.26325          64.83678  \n20    3.267         50.41152          95.97051  \n21    5.164         51.91739          87.25026  \n22    5.415         52.25503          92.62666  \n23    4.242         51.02390          88.60891  \n24    2.628         50.62335          64.68286  \n25    9.167         52.17293          92.63679  \n26    6.959         51.26803          75.46061  \n27    6.870         54.69343          94.00434  \n28    5.287         52.05783          92.80287  \n29    4.044         51.58219          95.10694  \n30   15.461         51.66401          73.02036  \n31   29.835         51.22886          71.24736  \n32   21.350         52.89284          70.60938  \n33   15.618         50.62729          72.62486  \n34    4.031         51.71076          87.84876  \n35   19.216         53.54930          75.38720  \n36   10.797         51.91497          87.57320  \n37    4.596         52.05775          90.10392  \n38   18.713         52.67010          69.75415  \n39    9.311         50.17744          86.96767  \n40    3.810         51.23096          74.62415  \n41   11.728         52.60379          90.64075  \n42    4.123         51.55638          82.85808  \n43   11.253         53.82436          78.67510  \n44    8.611         56.39092          90.69841  \n45    9.753         50.95321          74.26461  \n46    2.959         51.06586          96.78651  \n47   15.676         52.54096          81.28172  \n48    4.405         51.78742          93.26838  \n49    2.111         52.44230          94.97381  \n50    8.045         53.29429          92.93558  ",
      "text/html": "<div>\n<style scoped>\n    .dataframe tbody tr th:only-of-type {\n        vertical-align: middle;\n    }\n\n    .dataframe tbody tr th {\n        vertical-align: top;\n    }\n\n    .dataframe thead th {\n        text-align: right;\n    }\n</style>\n<table border=\"1\" class=\"dataframe\">\n  <thead>\n    <tr style=\"text-align: right;\">\n      <th></th>\n      <th>state</th>\n      <th>sample_size</th>\n      <th>%_employed_dataset</th>\n      <th>%_male</th>\n      <th>%_female</th>\n      <th>%_white</th>\n      <th>%_black</th>\n      <th>%_other</th>\n      <th>%_male_employed</th>\n      <th>%_white_employed</th>\n    </tr>\n  </thead>\n  <tbody>\n    <tr>\n      <th>0</th>\n      <td>AK</td>\n      <td>5074</td>\n      <td>55.045</td>\n      <td>52.976</td>\n      <td>47.024</td>\n      <td>56.957</td>\n      <td>1.498</td>\n      <td>41.545</td>\n      <td>53.41926</td>\n      <td>62.51343</td>\n    </tr>\n    <tr>\n      <th>1</th>\n      <td>AL</td>\n      <td>39150</td>\n      <td>48.447</td>\n      <td>47.290</td>\n      <td>52.710</td>\n      <td>73.195</td>\n      <td>23.438</td>\n      <td>3.367</td>\n      <td>51.94285</td>\n      <td>75.53119</td>\n    </tr>\n    <tr>\n      <th>2</th>\n      <td>AR</td>\n      <td>23861</td>\n      <td>48.845</td>\n      <td>48.032</td>\n      <td>51.968</td>\n      <td>82.302</td>\n      <td>13.558</td>\n      <td>4.141</td>\n      <td>52.62977</td>\n      <td>83.45774</td>\n    </tr>\n    <tr>\n      <th>3</th>\n      <td>AZ</td>\n      <td>52589</td>\n      <td>50.326</td>\n      <td>49.351</td>\n      <td>50.649</td>\n      <td>79.125</td>\n      <td>3.520</td>\n      <td>17.355</td>\n      <td>52.79604</td>\n      <td>80.07632</td>\n    </tr>\n    <tr>\n      <th>4</th>\n      <td>CA</td>\n      <td>298838</td>\n      <td>53.698</td>\n      <td>49.071</td>\n      <td>50.929</td>\n      <td>63.793</td>\n      <td>5.344</td>\n      <td>30.863</td>\n      <td>53.66237</td>\n      <td>63.48975</td>\n    </tr>\n    <tr>\n      <th>5</th>\n      <td>CO</td>\n      <td>42090</td>\n      <td>60.102</td>\n      <td>49.587</td>\n      <td>50.413</td>\n      <td>87.824</td>\n      <td>3.146</td>\n      <td>9.031</td>\n      <td>52.88374</td>\n      <td>88.43736</td>\n    </tr>\n    <tr>\n      <th>6</th>\n      <td>CT</td>\n      <td>29475</td>\n      <td>58.209</td>\n      <td>47.820</td>\n      <td>52.180</td>\n      <td>82.025</td>\n      <td>8.438</td>\n      <td>9.537</td>\n      <td>50.92382</td>\n      <td>82.87579</td>\n    </tr>\n    <tr>\n      <th>7</th>\n      <td>DE</td>\n      <td>7406</td>\n      <td>54.456</td>\n      <td>48.191</td>\n      <td>51.809</td>\n      <td>76.789</td>\n      <td>16.500</td>\n      <td>6.711</td>\n      <td>50.38433</td>\n      <td>76.64270</td>\n    </tr>\n    <tr>\n      <th>8</th>\n      <td>FL</td>\n      <td>160571</td>\n      <td>50.110</td>\n      <td>47.695</td>\n      <td>52.305</td>\n      <td>80.361</td>\n      <td>13.302</td>\n      <td>6.337</td>\n      <td>50.90602</td>\n      <td>80.00298</td>\n    </tr>\n    <tr>\n      <th>9</th>\n      <td>GA</td>\n      <td>77261</td>\n      <td>52.746</td>\n      <td>47.944</td>\n      <td>52.056</td>\n      <td>66.798</td>\n      <td>26.549</td>\n      <td>6.653</td>\n      <td>51.52140</td>\n      <td>68.41627</td>\n    </tr>\n    <tr>\n      <th>10</th>\n      <td>HI</td>\n      <td>11546</td>\n      <td>54.166</td>\n      <td>49.602</td>\n      <td>50.398</td>\n      <td>27.005</td>\n      <td>1.646</td>\n      <td>71.349</td>\n      <td>50.83147</td>\n      <td>23.60090</td>\n    </tr>\n    <tr>\n      <th>11</th>\n      <td>IA</td>\n      <td>25396</td>\n      <td>59.844</td>\n      <td>48.811</td>\n      <td>51.189</td>\n      <td>95.200</td>\n      <td>1.701</td>\n      <td>3.099</td>\n      <td>51.85551</td>\n      <td>95.76260</td>\n    </tr>\n    <tr>\n      <th>12</th>\n      <td>ID</td>\n      <td>11935</td>\n      <td>54.319</td>\n      <td>49.828</td>\n      <td>50.172</td>\n      <td>93.305</td>\n      <td>0.511</td>\n      <td>6.183</td>\n      <td>54.21873</td>\n      <td>93.18217</td>\n    </tr>\n    <tr>\n      <th>13</th>\n      <td>IL</td>\n      <td>102240</td>\n      <td>56.826</td>\n      <td>48.371</td>\n      <td>51.629</td>\n      <td>79.046</td>\n      <td>11.291</td>\n      <td>9.663</td>\n      <td>51.79263</td>\n      <td>81.45579</td>\n    </tr>\n    <tr>\n      <th>14</th>\n      <td>IN</td>\n      <td>53408</td>\n      <td>55.660</td>\n      <td>48.472</td>\n      <td>51.528</td>\n      <td>88.889</td>\n      <td>6.909</td>\n      <td>4.202</td>\n      <td>52.20170</td>\n      <td>90.15710</td>\n    </tr>\n    <tr>\n      <th>15</th>\n      <td>KS</td>\n      <td>22783</td>\n      <td>58.206</td>\n      <td>49.247</td>\n      <td>50.753</td>\n      <td>89.325</td>\n      <td>4.064</td>\n      <td>6.610</td>\n      <td>52.86932</td>\n      <td>90.09879</td>\n    </tr>\n    <tr>\n      <th>16</th>\n      <td>KY</td>\n      <td>36108</td>\n      <td>51.061</td>\n      <td>48.241</td>\n      <td>51.759</td>\n      <td>90.684</td>\n      <td>6.339</td>\n      <td>2.977</td>\n      <td>51.84141</td>\n      <td>91.12112</td>\n    </tr>\n    <tr>\n      <th>17</th>\n      <td>LA</td>\n      <td>35484</td>\n      <td>51.265</td>\n      <td>47.830</td>\n      <td>52.170</td>\n      <td>67.394</td>\n      <td>28.187</td>\n      <td>4.419</td>\n      <td>51.35507</td>\n      <td>70.36996</td>\n    </tr>\n    <tr>\n      <th>18</th>\n      <td>MA</td>\n      <td>56286</td>\n      <td>59.530</td>\n      <td>47.468</td>\n      <td>52.532</td>\n      <td>83.152</td>\n      <td>5.811</td>\n      <td>11.036</td>\n      <td>49.87018</td>\n      <td>84.01528</td>\n    </tr>\n    <tr>\n      <th>19</th>\n      <td>MD</td>\n      <td>47531</td>\n      <td>59.940</td>\n      <td>47.289</td>\n      <td>52.711</td>\n      <td>63.914</td>\n      <td>25.604</td>\n      <td>10.482</td>\n      <td>50.26325</td>\n      <td>64.83678</td>\n    </tr>\n    <tr>\n      <th>20</th>\n      <td>ME</td>\n      <td>10897</td>\n      <td>53.519</td>\n      <td>48.463</td>\n      <td>51.537</td>\n      <td>95.797</td>\n      <td>0.936</td>\n      <td>3.267</td>\n      <td>50.41152</td>\n      <td>95.97051</td>\n    </tr>\n    <tr>\n      <th>21</th>\n      <td>MI</td>\n      <td>80191</td>\n      <td>51.867</td>\n      <td>48.901</td>\n      <td>51.099</td>\n      <td>85.013</td>\n      <td>9.823</td>\n      <td>5.164</td>\n      <td>51.91739</td>\n      <td>87.25026</td>\n    </tr>\n    <tr>\n      <th>22</th>\n      <td>MN</td>\n      <td>43678</td>\n      <td>61.729</td>\n      <td>50.144</td>\n      <td>49.856</td>\n      <td>92.067</td>\n      <td>2.518</td>\n      <td>5.415</td>\n      <td>52.25503</td>\n      <td>92.62666</td>\n    </tr>\n    <tr>\n      <th>23</th>\n      <td>MO</td>\n      <td>49574</td>\n      <td>54.276</td>\n      <td>48.271</td>\n      <td>51.729</td>\n      <td>86.963</td>\n      <td>8.795</td>\n      <td>4.242</td>\n      <td>51.02390</td>\n      <td>88.60891</td>\n    </tr>\n    <tr>\n      <th>24</th>\n      <td>MS</td>\n      <td>23362</td>\n      <td>47.038</td>\n      <td>47.098</td>\n      <td>52.902</td>\n      <td>61.617</td>\n      <td>35.755</td>\n      <td>2.628</td>\n      <td>50.62335</td>\n      <td>64.68286</td>\n    </tr>\n    <tr>\n      <th>25</th>\n      <td>MT</td>\n      <td>7985</td>\n      <td>55.617</td>\n      <td>49.718</td>\n      <td>50.282</td>\n      <td>90.332</td>\n      <td>0.501</td>\n      <td>9.167</td>\n      <td>52.17293</td>\n      <td>92.63679</td>\n    </tr>\n    <tr>\n      <th>26</th>\n      <td>NC</td>\n      <td>79453</td>\n      <td>52.259</td>\n      <td>47.801</td>\n      <td>52.199</td>\n      <td>73.850</td>\n      <td>19.191</td>\n      <td>6.959</td>\n      <td>51.26803</td>\n      <td>75.46061</td>\n    </tr>\n    <tr>\n      <th>27</th>\n      <td>ND</td>\n      <td>6128</td>\n      <td>60.150</td>\n      <td>50.604</td>\n      <td>49.396</td>\n      <td>92.412</td>\n      <td>0.718</td>\n      <td>6.870</td>\n      <td>54.69343</td>\n      <td>94.00434</td>\n    </tr>\n    <tr>\n      <th>28</th>\n      <td>NE</td>\n      <td>15132</td>\n      <td>62.622</td>\n      <td>49.075</td>\n      <td>50.925</td>\n      <td>91.891</td>\n      <td>2.822</td>\n      <td>5.287</td>\n      <td>52.05783</td>\n      <td>92.80287</td>\n    </tr>\n    <tr>\n      <th>29</th>\n      <td>NH</td>\n      <td>11227</td>\n      <td>60.800</td>\n      <td>48.998</td>\n      <td>51.002</td>\n      <td>94.967</td>\n      <td>0.989</td>\n      <td>4.044</td>\n      <td>51.58219</td>\n      <td>95.10694</td>\n    </tr>\n    <tr>\n      <th>30</th>\n      <td>NJ</td>\n      <td>71194</td>\n      <td>58.075</td>\n      <td>47.656</td>\n      <td>52.344</td>\n      <td>72.658</td>\n      <td>11.882</td>\n      <td>15.461</td>\n      <td>51.66401</td>\n      <td>73.02036</td>\n    </tr>\n    <tr>\n      <th>31</th>\n      <td>NM</td>\n      <td>15475</td>\n      <td>48.905</td>\n      <td>48.614</td>\n      <td>51.386</td>\n      <td>68.653</td>\n      <td>1.512</td>\n      <td>29.835</td>\n      <td>51.22886</td>\n      <td>71.24736</td>\n    </tr>\n    <tr>\n      <th>32</th>\n      <td>NV</td>\n      <td>21489</td>\n      <td>54.372</td>\n      <td>49.230</td>\n      <td>50.770</td>\n      <td>71.572</td>\n      <td>7.078</td>\n      <td>21.350</td>\n      <td>52.89284</td>\n      <td>70.60938</td>\n    </tr>\n    <tr>\n      <th>33</th>\n      <td>NY</td>\n      <td>160266</td>\n      <td>55.057</td>\n      <td>47.639</td>\n      <td>52.361</td>\n      <td>71.434</td>\n      <td>12.948</td>\n      <td>15.618</td>\n      <td>50.62729</td>\n      <td>72.62486</td>\n    </tr>\n    <tr>\n      <th>34</th>\n      <td>OH</td>\n      <td>95226</td>\n      <td>55.215</td>\n      <td>48.122</td>\n      <td>51.878</td>\n      <td>86.065</td>\n      <td>9.904</td>\n      <td>4.031</td>\n      <td>51.71076</td>\n      <td>87.84876</td>\n    </tr>\n    <tr>\n      <th>35</th>\n      <td>OK</td>\n      <td>29418</td>\n      <td>52.675</td>\n      <td>49.640</td>\n      <td>50.360</td>\n      <td>74.975</td>\n      <td>5.809</td>\n      <td>19.216</td>\n      <td>53.54930</td>\n      <td>75.38720</td>\n    </tr>\n    <tr>\n      <th>36</th>\n      <td>OR</td>\n      <td>32083</td>\n      <td>53.224</td>\n      <td>48.674</td>\n      <td>51.326</td>\n      <td>87.772</td>\n      <td>1.431</td>\n      <td>10.797</td>\n      <td>51.91497</td>\n      <td>87.57320</td>\n    </tr>\n    <tr>\n      <th>37</th>\n      <td>PA</td>\n      <td>105512</td>\n      <td>55.270</td>\n      <td>48.784</td>\n      <td>51.216</td>\n      <td>88.250</td>\n      <td>7.155</td>\n      <td>4.596</td>\n      <td>52.05775</td>\n      <td>90.10392</td>\n    </tr>\n    <tr>\n      <th>38</th>\n      <td>PR</td>\n      <td>26287</td>\n      <td>33.267</td>\n      <td>46.464</td>\n      <td>53.536</td>\n      <td>71.754</td>\n      <td>9.533</td>\n      <td>18.713</td>\n      <td>52.67010</td>\n      <td>69.75415</td>\n    </tr>\n    <tr>\n      <th>39</th>\n      <td>RI</td>\n      <td>8914</td>\n      <td>56.899</td>\n      <td>47.285</td>\n      <td>52.715</td>\n      <td>85.775</td>\n      <td>4.914</td>\n      <td>9.311</td>\n      <td>50.17744</td>\n      <td>86.96767</td>\n    </tr>\n    <tr>\n      <th>40</th>\n      <td>SC</td>\n      <td>38896</td>\n      <td>50.962</td>\n      <td>47.722</td>\n      <td>52.278</td>\n      <td>72.450</td>\n      <td>23.740</td>\n      <td>3.810</td>\n      <td>51.23096</td>\n      <td>74.62415</td>\n    </tr>\n    <tr>\n      <th>41</th>\n      <td>SD</td>\n      <td>6787</td>\n      <td>61.397</td>\n      <td>49.845</td>\n      <td>50.155</td>\n      <td>87.417</td>\n      <td>0.855</td>\n      <td>11.728</td>\n      <td>52.60379</td>\n      <td>90.64075</td>\n    </tr>\n    <tr>\n      <th>42</th>\n      <td>TN</td>\n      <td>53044</td>\n      <td>51.964</td>\n      <td>47.736</td>\n      <td>52.264</td>\n      <td>82.236</td>\n      <td>13.642</td>\n      <td>4.123</td>\n      <td>51.55638</td>\n      <td>82.85808</td>\n    </tr>\n    <tr>\n      <th>43</th>\n      <td>TX</td>\n      <td>199010</td>\n      <td>56.222</td>\n      <td>48.690</td>\n      <td>51.310</td>\n      <td>78.408</td>\n      <td>10.339</td>\n      <td>11.253</td>\n      <td>53.82436</td>\n      <td>78.67510</td>\n    </tr>\n    <tr>\n      <th>44</th>\n      <td>UT</td>\n      <td>20823</td>\n      <td>61.130</td>\n      <td>49.801</td>\n      <td>50.199</td>\n      <td>90.597</td>\n      <td>0.792</td>\n      <td>8.611</td>\n      <td>56.39092</td>\n      <td>90.69841</td>\n    </tr>\n    <tr>\n      <th>45</th>\n      <td>VA</td>\n      <td>67316</td>\n      <td>57.117</td>\n      <td>48.100</td>\n      <td>51.900</td>\n      <td>73.399</td>\n      <td>16.849</td>\n      <td>9.753</td>\n      <td>50.95321</td>\n      <td>74.26461</td>\n    </tr>\n    <tr>\n      <th>46</th>\n      <td>VT</td>\n      <td>5305</td>\n      <td>59.246</td>\n      <td>48.765</td>\n      <td>51.235</td>\n      <td>96.287</td>\n      <td>0.754</td>\n      <td>2.959</td>\n      <td>51.06586</td>\n      <td>96.78651</td>\n    </tr>\n    <tr>\n      <th>47</th>\n      <td>WA</td>\n      <td>56576</td>\n      <td>55.023</td>\n      <td>48.742</td>\n      <td>51.258</td>\n      <td>81.644</td>\n      <td>2.680</td>\n      <td>15.676</td>\n      <td>52.54096</td>\n      <td>81.28172</td>\n    </tr>\n    <tr>\n      <th>48</th>\n      <td>WI</td>\n      <td>47489</td>\n      <td>59.435</td>\n      <td>49.763</td>\n      <td>50.237</td>\n      <td>92.095</td>\n      <td>3.500</td>\n      <td>4.405</td>\n      <td>51.78742</td>\n      <td>93.26838</td>\n    </tr>\n    <tr>\n      <th>49</th>\n      <td>WV</td>\n      <td>15111</td>\n      <td>46.741</td>\n      <td>47.985</td>\n      <td>52.015</td>\n      <td>94.620</td>\n      <td>3.269</td>\n      <td>2.111</td>\n      <td>52.44230</td>\n      <td>94.97381</td>\n    </tr>\n    <tr>\n      <th>50</th>\n      <td>WY</td>\n      <td>4574</td>\n      <td>59.729</td>\n      <td>49.585</td>\n      <td>50.415</td>\n      <td>91.233</td>\n      <td>0.721</td>\n      <td>8.045</td>\n      <td>53.29429</td>\n      <td>92.93558</td>\n    </tr>\n  </tbody>\n</table>\n</div>"
     },
     "execution_count": 5,
     "metadata": {},
     "output_type": "execute_result"
    }
   ],
   "source": [
    "table_1 = {'state':[],'sample_size':[], '%_employed_dataset':[],\n",
    "           '%_male':[],'%_female':[],'%_white':[],'%_black':[],'%_other':[],\n",
    "           '%_male_employed':[], '%_white_employed':[]}\n",
    "\n",
    "for p in data_file_paths:\n",
    "\n",
    "    # load data and change RAC1P values\n",
    "    df = pd.read_csv(p)\n",
    "    # age between 16 and 90\n",
    "    df = df[df['AGEP'].between(16,90)]\n",
    "    df['RAC1P'] = pd.to_numeric(df['RAC1P'])\n",
    "    df.loc[df['RAC1P'] > 2, 'RAC1P'] = 3\n",
    "    # state name\n",
    "    table_1['state'].append(state_pattern.findall(p)[-1])\n",
    "    # sample size\n",
    "    table_1['sample_size'].append(len(df))\n",
    "    # percentage of employed (esr 1) in dataset\n",
    "    table_1['%_employed_dataset'].append(round(df['ESR'].value_counts(normalize=True).to_dict()[1],5)*100)\n",
    "    # share of male and female\n",
    "    table_1['%_male'].append(round(df['SEX'].value_counts(normalize=True).to_dict()[1.0],5)*100)\n",
    "    table_1['%_female'].append(round(df['SEX'].value_counts(normalize=True).to_dict()[2.0],5)*100)\n",
    "    # share of white,black,other (RAC1P)\n",
    "    table_1['%_white'].append(round(df['RAC1P'].value_counts(normalize=True).to_dict()[1.0],5)*100)\n",
    "    table_1['%_black'].append(round(df['RAC1P'].value_counts(normalize=True).to_dict()[2.0],5)*100)\n",
    "    table_1['%_other'].append(round(df['RAC1P'].value_counts(normalize=True).to_dict()[3.0],5)*100)\n",
    "    # share of male employed\n",
    "    table_1['%_male_employed'].append(round( (len(df[ (df['SEX']==1.0) & (df['ESR']==1) ])/len(df[df['ESR']==1]))*100\n",
    "                                             ,5))\n",
    "    # share of white employed\n",
    "    table_1['%_white_employed'].append(round( (len(df[ (df['RAC1P']==1.0) & (df['ESR']==1) ])/len(df[df['ESR']==1]))*100\n",
    "                                             ,5))\n",
    "table1_final = pd.DataFrame.from_dict(table_1)\n",
    "table1_final"
   ],
   "metadata": {
    "collapsed": false
   }
  },
  {
   "cell_type": "code",
   "execution_count": 9,
   "outputs": [
    {
     "name": "stdout",
     "output_type": "stream",
     "text": [
      "\\begin{tabular}{llrrrrrrrrr}\n",
      "\\toprule\n",
      "{} & state &  sample\\_size &  \\%\\_employed\\_dataset &  \\%\\_male &  \\%\\_female &  \\%\\_white &  \\%\\_black &  \\%\\_other &  \\%\\_male\\_employed &  \\%\\_white\\_employed \\\\\n",
      "\\midrule\n",
      "0  &    AK &         5074 &              55.045 &  52.976 &    47.024 &   56.957 &    1.498 &   41.545 &         53.41926 &          62.51343 \\\\\n",
      "1  &    AL &        39150 &              48.447 &  47.290 &    52.710 &   73.195 &   23.438 &    3.367 &         51.94285 &          75.53119 \\\\\n",
      "2  &    AR &        23861 &              48.845 &  48.032 &    51.968 &   82.302 &   13.558 &    4.141 &         52.62977 &          83.45774 \\\\\n",
      "3  &    AZ &        52589 &              50.326 &  49.351 &    50.649 &   79.125 &    3.520 &   17.355 &         52.79604 &          80.07632 \\\\\n",
      "4  &    CA &       298838 &              53.698 &  49.071 &    50.929 &   63.793 &    5.344 &   30.863 &         53.66237 &          63.48975 \\\\\n",
      "5  &    CO &        42090 &              60.102 &  49.587 &    50.413 &   87.824 &    3.146 &    9.031 &         52.88374 &          88.43736 \\\\\n",
      "6  &    CT &        29475 &              58.209 &  47.820 &    52.180 &   82.025 &    8.438 &    9.537 &         50.92382 &          82.87579 \\\\\n",
      "7  &    DE &         7406 &              54.456 &  48.191 &    51.809 &   76.789 &   16.500 &    6.711 &         50.38433 &          76.64270 \\\\\n",
      "8  &    FL &       160571 &              50.110 &  47.695 &    52.305 &   80.361 &   13.302 &    6.337 &         50.90602 &          80.00298 \\\\\n",
      "9  &    GA &        77261 &              52.746 &  47.944 &    52.056 &   66.798 &   26.549 &    6.653 &         51.52140 &          68.41627 \\\\\n",
      "10 &    HI &        11546 &              54.166 &  49.602 &    50.398 &   27.005 &    1.646 &   71.349 &         50.83147 &          23.60090 \\\\\n",
      "11 &    IA &        25396 &              59.844 &  48.811 &    51.189 &   95.200 &    1.701 &    3.099 &         51.85551 &          95.76260 \\\\\n",
      "12 &    ID &        11935 &              54.319 &  49.828 &    50.172 &   93.305 &    0.511 &    6.183 &         54.21873 &          93.18217 \\\\\n",
      "13 &    IL &       102240 &              56.826 &  48.371 &    51.629 &   79.046 &   11.291 &    9.663 &         51.79263 &          81.45579 \\\\\n",
      "14 &    IN &        53408 &              55.660 &  48.472 &    51.528 &   88.889 &    6.909 &    4.202 &         52.20170 &          90.15710 \\\\\n",
      "15 &    KS &        22783 &              58.206 &  49.247 &    50.753 &   89.325 &    4.064 &    6.610 &         52.86932 &          90.09879 \\\\\n",
      "16 &    KY &        36108 &              51.061 &  48.241 &    51.759 &   90.684 &    6.339 &    2.977 &         51.84141 &          91.12112 \\\\\n",
      "17 &    LA &        35484 &              51.265 &  47.830 &    52.170 &   67.394 &   28.187 &    4.419 &         51.35507 &          70.36996 \\\\\n",
      "18 &    MA &        56286 &              59.530 &  47.468 &    52.532 &   83.152 &    5.811 &   11.036 &         49.87018 &          84.01528 \\\\\n",
      "19 &    MD &        47531 &              59.940 &  47.289 &    52.711 &   63.914 &   25.604 &   10.482 &         50.26325 &          64.83678 \\\\\n",
      "20 &    ME &        10897 &              53.519 &  48.463 &    51.537 &   95.797 &    0.936 &    3.267 &         50.41152 &          95.97051 \\\\\n",
      "21 &    MI &        80191 &              51.867 &  48.901 &    51.099 &   85.013 &    9.823 &    5.164 &         51.91739 &          87.25026 \\\\\n",
      "22 &    MN &        43678 &              61.729 &  50.144 &    49.856 &   92.067 &    2.518 &    5.415 &         52.25503 &          92.62666 \\\\\n",
      "23 &    MO &        49574 &              54.276 &  48.271 &    51.729 &   86.963 &    8.795 &    4.242 &         51.02390 &          88.60891 \\\\\n",
      "24 &    MS &        23362 &              47.038 &  47.098 &    52.902 &   61.617 &   35.755 &    2.628 &         50.62335 &          64.68286 \\\\\n",
      "25 &    MT &         7985 &              55.617 &  49.718 &    50.282 &   90.332 &    0.501 &    9.167 &         52.17293 &          92.63679 \\\\\n",
      "26 &    NC &        79453 &              52.259 &  47.801 &    52.199 &   73.850 &   19.191 &    6.959 &         51.26803 &          75.46061 \\\\\n",
      "27 &    ND &         6128 &              60.150 &  50.604 &    49.396 &   92.412 &    0.718 &    6.870 &         54.69343 &          94.00434 \\\\\n",
      "28 &    NE &        15132 &              62.622 &  49.075 &    50.925 &   91.891 &    2.822 &    5.287 &         52.05783 &          92.80287 \\\\\n",
      "29 &    NH &        11227 &              60.800 &  48.998 &    51.002 &   94.967 &    0.989 &    4.044 &         51.58219 &          95.10694 \\\\\n",
      "30 &    NJ &        71194 &              58.075 &  47.656 &    52.344 &   72.658 &   11.882 &   15.461 &         51.66401 &          73.02036 \\\\\n",
      "31 &    NM &        15475 &              48.905 &  48.614 &    51.386 &   68.653 &    1.512 &   29.835 &         51.22886 &          71.24736 \\\\\n",
      "32 &    NV &        21489 &              54.372 &  49.230 &    50.770 &   71.572 &    7.078 &   21.350 &         52.89284 &          70.60938 \\\\\n",
      "33 &    NY &       160266 &              55.057 &  47.639 &    52.361 &   71.434 &   12.948 &   15.618 &         50.62729 &          72.62486 \\\\\n",
      "34 &    OH &        95226 &              55.215 &  48.122 &    51.878 &   86.065 &    9.904 &    4.031 &         51.71076 &          87.84876 \\\\\n",
      "35 &    OK &        29418 &              52.675 &  49.640 &    50.360 &   74.975 &    5.809 &   19.216 &         53.54930 &          75.38720 \\\\\n",
      "36 &    OR &        32083 &              53.224 &  48.674 &    51.326 &   87.772 &    1.431 &   10.797 &         51.91497 &          87.57320 \\\\\n",
      "37 &    PA &       105512 &              55.270 &  48.784 &    51.216 &   88.250 &    7.155 &    4.596 &         52.05775 &          90.10392 \\\\\n",
      "38 &    PR &        26287 &              33.267 &  46.464 &    53.536 &   71.754 &    9.533 &   18.713 &         52.67010 &          69.75415 \\\\\n",
      "39 &    RI &         8914 &              56.899 &  47.285 &    52.715 &   85.775 &    4.914 &    9.311 &         50.17744 &          86.96767 \\\\\n",
      "40 &    SC &        38896 &              50.962 &  47.722 &    52.278 &   72.450 &   23.740 &    3.810 &         51.23096 &          74.62415 \\\\\n",
      "41 &    SD &         6787 &              61.397 &  49.845 &    50.155 &   87.417 &    0.855 &   11.728 &         52.60379 &          90.64075 \\\\\n",
      "42 &    TN &        53044 &              51.964 &  47.736 &    52.264 &   82.236 &   13.642 &    4.123 &         51.55638 &          82.85808 \\\\\n",
      "43 &    TX &       199010 &              56.222 &  48.690 &    51.310 &   78.408 &   10.339 &   11.253 &         53.82436 &          78.67510 \\\\\n",
      "44 &    UT &        20823 &              61.130 &  49.801 &    50.199 &   90.597 &    0.792 &    8.611 &         56.39092 &          90.69841 \\\\\n",
      "45 &    VA &        67316 &              57.117 &  48.100 &    51.900 &   73.399 &   16.849 &    9.753 &         50.95321 &          74.26461 \\\\\n",
      "46 &    VT &         5305 &              59.246 &  48.765 &    51.235 &   96.287 &    0.754 &    2.959 &         51.06586 &          96.78651 \\\\\n",
      "47 &    WA &        56576 &              55.023 &  48.742 &    51.258 &   81.644 &    2.680 &   15.676 &         52.54096 &          81.28172 \\\\\n",
      "48 &    WI &        47489 &              59.435 &  49.763 &    50.237 &   92.095 &    3.500 &    4.405 &         51.78742 &          93.26838 \\\\\n",
      "49 &    WV &        15111 &              46.741 &  47.985 &    52.015 &   94.620 &    3.269 &    2.111 &         52.44230 &          94.97381 \\\\\n",
      "50 &    WY &         4574 &              59.729 &  49.585 &    50.415 &   91.233 &    0.721 &    8.045 &         53.29429 &          92.93558 \\\\\n",
      "\\bottomrule\n",
      "\\end{tabular}\n",
      "\n"
     ]
    },
    {
     "name": "stderr",
     "output_type": "stream",
     "text": [
      "C:\\Users\\sarab\\AppData\\Local\\Temp\\ipykernel_12940\\792255623.py:2: FutureWarning: In future versions `DataFrame.to_latex` is expected to utilise the base implementation of `Styler.to_latex` for formatting and rendering. The arguments signature may therefore change. It is recommended instead to use `DataFrame.style.to_latex` which also contains additional functionality.\n",
      "  print(table1_final.to_latex())\n"
     ]
    }
   ],
   "source": [
    "#table1_final.style.to_latex()\n",
    "print(table1_final.to_latex())"
   ],
   "metadata": {
    "collapsed": false
   }
  },
  {
   "cell_type": "code",
   "execution_count": null,
   "outputs": [],
   "source": [],
   "metadata": {
    "collapsed": false
   }
  }
 ],
 "metadata": {
  "kernelspec": {
   "display_name": "Python 3",
   "language": "python",
   "name": "python3"
  },
  "language_info": {
   "codemirror_mode": {
    "name": "ipython",
    "version": 2
   },
   "file_extension": ".py",
   "mimetype": "text/x-python",
   "name": "python",
   "nbconvert_exporter": "python",
   "pygments_lexer": "ipython2",
   "version": "2.7.6"
  }
 },
 "nbformat": 4,
 "nbformat_minor": 0
}
